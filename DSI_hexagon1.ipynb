{
  "nbformat": 4,
  "nbformat_minor": 0,
  "metadata": {
    "colab": {
      "name": "DSI_hexagon1.ipynb",
      "provenance": [],
      "authorship_tag": "ABX9TyOvRuutNMVCMHQ3hYrzA1V7",
      "include_colab_link": true
    },
    "kernelspec": {
      "name": "python3",
      "display_name": "Python 3"
    },
    "language_info": {
      "name": "python"
    }
  },
  "cells": [
    {
      "cell_type": "markdown",
      "metadata": {
        "id": "view-in-github",
        "colab_type": "text"
      },
      "source": [
        "<a href=\"https://colab.research.google.com/github/obengdouglas/DSI-2022/blob/main/DSI_hexagon1.ipynb\" target=\"_parent\"><img src=\"https://colab.research.google.com/assets/colab-badge.svg\" alt=\"Open In Colab\"/></a>"
      ]
    },
    {
      "cell_type": "markdown",
      "source": [
        "# **Pre-DSI Assignment - 2022**\n",
        "\n",
        "**Question 1: Unexpected Plots **\n",
        "\n",
        "**Notes**\n",
        "\n",
        "Write a python function that will plot the points that come from the following procedure: \n",
        "\n",
        "1. Create a regular hexagon\n",
        "2. Pick a random point, P, inside the hexagon. \n",
        "3. Make a triangle, T, by randomly connecting P to two adjacent vertices of the hexagon.\n",
        "4. Compute the centroid of T. This becomes your new random point, P.  Save it, make a new random triangle as above, compute the new centroid etc… Repeat this process 10,000 times. \n",
        "5. Make a scatter plot of all your 10,000 random points. What emerges? \n",
        "\n",
        "The goal of this exercise is to ensure that you have enough basic skills and familiarity with python to succeed.\n",
        "\n",
        "[url to document](https://docs.google.com/document/d/1ZUltBJgPx2d3Y3QC44xoibZJFCpNo2mIR9KZkpnLdv8/edit)"
      ],
      "metadata": {
        "id": "83nlYFDVRWrz"
      }
    },
    {
      "cell_type": "code",
      "source": [
        "# import libraries\n",
        "\n",
        "import numpy as np # linear algebra\n",
        "import pandas as pd # data processing\n",
        "import os\n",
        "import matplotlib.pyplot as plt\n",
        "import numpy as np\n",
        "from functools import reduce\n",
        "\n",
        "import seaborn as sns\n",
        "import sklearn\n",
        "import scipy\n",
        "import torch\n",
        "import turtle\n",
        "import math\n",
        "from math import sqrt\n",
        "import random"
      ],
      "metadata": {
        "id": "kibw9TODrC1F"
      },
      "execution_count": 1,
      "outputs": []
    },
    {
      "cell_type": "code",
      "source": [
        "hexagon = [[4,0], [2,2*sqrt(3)], [-2,2*sqrt(3)], [-4,0], [-2,-2*sqrt(3)], [2,-2*sqrt(3)]]\n",
        "hexagon.append(hexagon[0]) #repeat the first point to create a 'closed loop'\n",
        "\n",
        "xs, ys = zip(*hexagon) #create lists of x and y values\n",
        "\n",
        "plt.figure()\n",
        "plt.plot(xs,ys) \n",
        "plt.show()\n",
        "\n",
        "\n"
      ],
      "metadata": {
        "id": "mTeFytaXXldp",
        "colab": {
          "base_uri": "https://localhost:8080/",
          "height": 265
        },
        "outputId": "3de135aa-30c6-4620-9390-4774c9e87bdc"
      },
      "execution_count": null,
      "outputs": [
        {
          "output_type": "display_data",
          "data": {
            "image/png": "[encoded data removed]",
            "text/plain": [
              "<Figure size 432x288 with 1 Axes>"
            ]
          },
          "metadata": {
            "needs_background": "light"
          }
        }
      ]
    },
    {
      "cell_type": "code",
      "source": [
        "points1 = {'A':(4,0), 'B':(2,2*sqrt(3)), 'C':(-2,2*sqrt(3)), 'D':(-4,0), 'E':(-2,-2*sqrt(3)), 'F':(2,-2*sqrt(3)), 'G':(1, -1)}\n",
        "points2 = [[4,0], [2,2*sqrt(3)], [-2,2*sqrt(3)], [-4,0], [-2,-2*sqrt(3)], [2,-2*sqrt(3)], [1, -1]]\n",
        "\n",
        "hexpoints = ['A', 'B', 'C', 'D', 'E', 'F']\n",
        "hexagon=[points1[x] for x in hexpoints]\n",
        "hexagon\n",
        "hexagon.append(hexagon[0])\n",
        "#points1.append(points1['A':'F']) #repeat the first point to create a 'closed loop'\n",
        "\n",
        "xs, ys = zip(*hexagon) #create lists of x and y values\n",
        "\n",
        "plt.figure()\n",
        "plt.plot(xs,ys) \n",
        "plt.show()"
      ],
      "metadata": {
        "colab": {
          "base_uri": "https://localhost:8080/",
          "height": 265
        },
        "id": "UXzIZA-vA4NO",
        "outputId": "185b3d40-846c-4415-b839-b0391c81eafe"
      },
      "execution_count": null,
      "outputs": [
        {
          "output_type": "display_data",
          "data": {
            "image/png": "[encoded data removed]",
            "text/plain": [
              "<Figure size 432x288 with 1 Axes>"
            ]
          },
          "metadata": {
            "needs_background": "light"
          }
        }
      ]
    },
    {
      "cell_type": "code",
      "source": [
        "points1 = {'A':(4,0), 'B':(2,2*sqrt(3)), 'C':(-2,2*sqrt(3)), 'D':(-4,0), 'E':(-2,-2*sqrt(3)), 'F':(2,-2*sqrt(3)), 'G':(1, -1)}\n",
        "points2 = [[4,0], [2,2*sqrt(3)], [-2,2*sqrt(3)], [-4,0], [-2,-2*sqrt(3)], [2,-2*sqrt(3)], [1, -1]]\n",
        "\n",
        "adjacent = ['A', 'B', 'C', 'D', 'E', 'F']\n",
        "\n",
        "n_pairs = 1\n",
        "for _ in range(n_pairs):\n",
        "  i = random.randrange(len(adjacent)-1)\n",
        "  tripoints=['G', adjacent[i], adjacent[i+1]]\n",
        "tripoints\n",
        "\n",
        "triangle=[points1[x] for x in tripoints]\n",
        "triangle\n",
        "triangle.append(triangle[0])\n",
        "\n",
        "xs, ys = zip(*triangle) #create lists of x and y values\n",
        "\n",
        "plt.figure()\n",
        "plt.plot(xs,ys) \n",
        "plt.show()\n"
      ],
      "metadata": {
        "colab": {
          "base_uri": "https://localhost:8080/",
          "height": 265
        },
        "id": "ffyMJUXllOes",
        "outputId": "e77e02b3-e2cf-42f9-8652-e5cd287e3716"
      },
      "execution_count": 39,
      "outputs": [
        {
          "output_type": "display_data",
          "data": {
            "image/png": "[encoded data removed]",
            "text/plain": [
              "<Figure size 432x288 with 1 Axes>"
            ]
          },
          "metadata": {
            "needs_background": "light"
          }
        }
      ]
    },
    {
      "cell_type": "code",
      "source": [
        "if __name__ == \"__main__\" :\n",
        " \n",
        "    # coordinate of the vertices\n",
        "    x1, x2, x3 = 1, 3, 6\n",
        "    y1, y2, y3 = 2, -4, -7\n",
        "     \n",
        "    # Formula to calculate centroid\n",
        "    x = round((x1 + x2 + x3) / 3, 2)\n",
        "    y = round((y1 + y2 + y3) / 3, 2)\n",
        " \n",
        "    print(\"Centroid =\",\"(\",x,\",\",y,\")\")\n",
        " "
      ],
      "metadata": {
        "colab": {
          "base_uri": "https://localhost:8080/"
        },
        "id": "YLtDbvCmqL4M",
        "outputId": "6746e4d7-d203-442e-8e0d-0cb23831168d"
      },
      "execution_count": 37,
      "outputs": [
        {
          "output_type": "stream",
          "name": "stdout",
          "text": [
            "Centroid = ( 3.33 , -3.0 )\n"
          ]
        }
      ]
    },
    {
      "cell_type": "code",
      "source": [
        "points1 = {'A':(4,0), 'B':(2,2*sqrt(3)), 'C':(-2,2*sqrt(3)), 'D':(-4,0), 'E':(-2,-2*sqrt(3)), 'F':(2,-2*sqrt(3)), 'G':(1, -1)}\n",
        "points2 = [[4,0], [2,2*sqrt(3)], [-2,2*sqrt(3)], [-4,0], [-2,-2*sqrt(3)], [2,-2*sqrt(3)], [1, -1]]\n",
        "\n",
        "tripoints = ['A', 'B', 'C', 'D', 'E', 'F']\n",
        "# hexagon=[points1[x] for x in hexpoints]\n",
        "# hexagon\n",
        "# hexagon.append(hexagon[0])\n",
        "\n",
        "# xs, ys = zip(*hexagon) #create lists of x and y values\n",
        "\n",
        "# plt.figure()\n",
        "# plt.plot(xs,ys) \n",
        "# plt.show()\n",
        "\n",
        "\n",
        "print(random.sample(tripoints, 2))\n",
        "\n",
        "# import random\n",
        "# from shapely.geometry import Polygon, Point\n",
        "\n",
        "# def get_random(hexagon):\n",
        "#      minx, miny, maxx, maxy = hexagon.bounds\n",
        "#      while True:\n",
        "#          p = Point(random.uniform(minx, maxx), random.uniform(miny, maxy))\n",
        "#          if hexagon.contains(p):\n",
        "#              return p\n",
        "\n",
        "# p = Polygon([(0, 0), (0, 2), (1, 1), (2, 2), (2, 0), (1, 1), (0, 0)])\n",
        "# point_in_poly = get_random(hexagon)"
      ],
      "metadata": {
        "id": "fuZwyT1drcJv",
        "colab": {
          "base_uri": "https://localhost:8080/"
        },
        "outputId": "a4c9eb3d-6849-4559-b898-8e86cfbcee7d"
      },
      "execution_count": 10,
      "outputs": [
        {
          "output_type": "stream",
          "name": "stdout",
          "text": [
            "['E', 'B']\n"
          ]
        }
      ]
    },
    {
      "cell_type": "code",
      "source": [
        "hexpoints = ['A', 'B', 'C', 'D', 'E', 'F']\n",
        "hexagon=[points1[x] for x in hexpoints]\n",
        "hexagon\n",
        "hexagon.append(hexagon[0])\n",
        "#points1.append(points1['A':'F']) #repeat the first point to create a 'closed loop'\n",
        "\n",
        "xs, ys = zip(*hexagon) #create lists of x and y values\n",
        "\n",
        "plt.figure()\n",
        "plt.plot(xs,ys) \n",
        "plt.show()"
      ],
      "metadata": {
        "id": "M3TQP6HIKBXm"
      },
      "execution_count": null,
      "outputs": []
    },
    {
      "cell_type": "code",
      "source": [
        ""
      ],
      "metadata": {
        "id": "rdiV_vxjmPij"
      },
      "execution_count": null,
      "outputs": []
    }
  ]
}