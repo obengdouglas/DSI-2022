{
 "cells": [
  {
   "cell_type": "markdown",
   "metadata": {
    "id": "kgbvjyyo3x5C"
   },
   "source": [
    "### Date:March 2022\n",
    "\n",
    "\n",
    "<h1> DSI Module 2 Twist challenge </h1>\n",
    "\n",
    "\n",
    "<h1> Beijing Multisite Air Quality Machine Learing Model's </h1> "
   ]
  },
  {
   "cell_type": "markdown",
   "metadata": {
    "id": "EuSicwnN3x5L"
   },
   "source": [
    "<h1> 1. Introduction </h1>\n",
    "\n",
    "#### Context: Exploring Air Pollutants in Beijing\n",
    "PM2.5 readings are often included in air quality reports from environmental authorities and companies. PM2.5 refers to atmospheric particulate matter (PM) that have a diameter less than 2.5 micrometers. In other words, it's used as a measure of pollution.\n",
    "\n",
    "#### Content\n",
    "This data set includes  air pollutants data from 12 nationally-controlled air-quality monitoring sites. The air-quality data are from the Beijing Municipal Environmental Monitoring Center. The meteorological data in each air-quality site are matched with the nearest weather station from the China Meteorological Administration. <br/>\n",
    "The time period is from March 1st, 2013 to February 28th, 2017.\n",
    "\n",
    "#### Acknowledgements\n",
    "Zhang, S., Guo, B., Dong, A., He, J., Xu, Z. and Chen, S.X. (2017) Cautionary Tales on Air-Quality Improvement in Beijing. Proceedings of the Royal Society A, Volume 473, No. 2205, Pages 20170457.\n",
    "\n",
    "The files were downloaded from the UCI Machine Learning Repository and have not been modified.<br/>\n",
    "https://archive.ics.uci.edu/ml/datasets/Beijing+Multi-Site+Air-Quality+Data\n",
    "\n",
    "\n",
    "### Problem Statement:\n",
    "\n",
    "The pollutant that affects people the most is particulate matter, usually abbreviated as PM and used as a measure of air pollution. Although particles with a diameter of 10 microns or less (≤PM10) can penetrate and embed deep in the lungs, the ones that are more harmful to health are those with a diameter of 2.5 microns or less (≤PM2.5).\n",
    "\n",
    "The model uses linear regression to predict the concentration of PM2.5 using the values of other air quality indices and conditions."
   ]
  },
  {
   "cell_type": "markdown",
   "metadata": {},
   "source": [
    "<h1> 2. Import Libraries</h1>"
   ]
  },
  {
   "cell_type": "code",
   "execution_count": 2,
   "metadata": {
    "colab": {
     "base_uri": "https://localhost:8080/"
    },
    "id": "ghO1pDjk3x5O",
    "outputId": "dee2287a-da1b-4b23-a492-6eefba2d477c"
   },
   "outputs": [],
   "source": [
    "# This Python 3 environment comes with many helpful analytics libraries installed\n",
    "# It is defined by the kaggle/python Docker image: https://github.com/kaggle/docker-python\n",
    "# For example, here's several helpful packages to load\n",
    "\n",
    "#Read system file path of data set to load the path\n",
    "import os\n",
    "\n",
    "# import 'Numpy' \n",
    "import numpy as np # linear algebra\n",
    "# import 'Pandas' \n",
    "import pandas as pd # data processing, CSV file I/O (e.g. pd.read_csv)\n",
    "\n",
    "# import subpackage of Matplotlib\n",
    "import matplotlib.pyplot as plt\n",
    "\n",
    "# import 'Seaborn' \n",
    "import seaborn as sns\n",
    "\n",
    "# to suppress warnings \n",
    "from warnings import filterwarnings\n",
    "filterwarnings('ignore')\n",
    "\n",
    "# display all columns of the dataframe\n",
    "pd.options.display.max_columns = None\n",
    "\n",
    "# display all rows of the dataframe\n",
    "pd.options.display.max_rows = None\n",
    " \n",
    "# to display the float values upto 6 decimal places     \n",
    "pd.options.display.float_format = '{:.6f}'.format\n",
    "\n",
    "# import train-test split \n",
    "from sklearn.model_selection import train_test_split\n",
    "\n",
    "# import various functions from statsmodel to perform linear regression\n",
    "import statsmodels \n",
    "import statsmodels.api as sm\n",
    "import statsmodels.stats.api as stats\n",
    "from statsmodels.compat import lzip\n",
    "from statsmodels.stats.outliers_influence import variance_inflation_factor\n",
    "from statsmodels.graphics.gofplots import qqplot\n",
    "from statsmodels.stats.anova import anova_lm\n",
    "from statsmodels.formula.api import ols\n",
    "from statsmodels.tools.eval_measures import rmse\n",
    "from sklearn.multioutput import MultiOutputRegressor\n",
    "from sklearn.preprocessing import LabelEncoder\n",
    "\n",
    "\n",
    "from sklearn.model_selection import KFold\n",
    "from sklearn.preprocessing import StandardScaler\n",
    "from sklearn.preprocessing import MinMaxScaler\n",
    "from sklearn.preprocessing import LabelEncoder\n",
    "\n",
    "from sklearn.model_selection import cross_val_score\n",
    "from sklearn.feature_selection import SelectFromModel\n",
    "from sklearn import metrics\n",
    "from sklearn.metrics import mean_squared_error,r2_score\n",
    "import glob\n",
    "%matplotlib inline\n",
    "plt.rcParams['figure.figsize'] = (10, 7)\n",
    "from datetime import datetime, timedelta\n",
    "\n",
    "\n",
    "# import various functions from scipy\n",
    "import scipy as sci\n",
    "from scipy import stats as scistats\n",
    "from scipy.stats import shapiro\n",
    "\n",
    "# 'metrics' from sklearn is used for evaluating the model performance\n",
    "from sklearn.metrics import mean_absolute_error\n",
    "from sklearn.metrics import mean_squared_error\n",
    "\n",
    "from sklearn.model_selection import RepeatedKFold\n",
    "from sklearn.model_selection import GridSearchCV\n",
    "from sklearn.model_selection import RandomizedSearchCV\n",
    "from sklearn.ensemble import GradientBoostingRegressor\n",
    "from sklearn.metrics import r2_score, mean_squared_error, make_scorer\n",
    "from sklearn.model_selection import cross_val_score\n",
    "from sklearn.linear_model import Lasso\n",
    "from sklearn.linear_model import Ridge\n",
    "\n",
    "#!pip install dash\n",
    "import pandas as pd\n",
    "import plotly.express as px  # (version 4.7.0 or higher)\n",
    "import plotly.graph_objects as go\n",
    "from dash import Dash, dcc, html, Input, Output  # pip install dash (version 2.0.0 or higher)\n",
    "\n",
    "import sqlite3\n",
    "import csv"
   ]
  },
  {
   "cell_type": "markdown",
   "metadata": {},
   "source": [
    "<h1> 3. Data Scrapping</h1>"
   ]
  },
  {
   "cell_type": "code",
   "execution_count": 109,
   "metadata": {
    "colab": {
     "base_uri": "https://localhost:8080/"
    },
    "id": "cp4-udn-3_m_",
    "outputId": "3b3b482d-05d3-4a1d-e45e-ae3db5575a10"
   },
   "outputs": [
    {
     "name": "stdout",
     "output_type": "stream",
     "text": [
      "Downloading started\n",
      "Downloading Completed\n"
     ]
    }
   ],
   "source": [
    "# importing necessary modules\n",
    "import requests, zipfile\n",
    "from io import BytesIO\n",
    "print('Downloading started')\n",
    "\n",
    "#Defining the zip file URL\n",
    "url = 'https://archive.ics.uci.edu/ml/machine-learning-databases/00501/PRSA2017_Data_20130301-20170228.zip'\n",
    "\n",
    "# Split URL to get the file name\n",
    "filename = url.split('/')[-1]\n",
    "\n",
    "# Downloading the file by sending the request to the URL\n",
    "req = requests.get(url)\n",
    "print('Downloading Completed')\n",
    "\n",
    "# extracting the zip file contents\n",
    "zipfile= zipfile.ZipFile(BytesIO(req.content))\n",
    "zipfile.extractall('Documents/Technology sub/Data Science/Python/')"
   ]
  },
  {
   "cell_type": "markdown",
   "metadata": {
    "id": "WYgvoziV3x5U"
   },
   "source": [
    "#### DATA SET DETAILS:"
   ]
  },
  {
   "cell_type": "markdown",
   "metadata": {
    "id": "Y5uDPfqS3x5V"
   },
   "source": [
    "=======================================================================<br/>\n",
    "**1. No:** \t\tRow number                              <br/>\n",
    "**2. year:** \tYear of data in this row                <br/>\n",
    "**3. month:** \tMonth of data in this row               <br/>\n",
    "**4. day:** \tDay of data in this row                 <br/>\n",
    "**5. hour:** \tHour of data in this row                <br/>\n",
    "**6. PM2.5:** \tPM2.5 concentration (ug/m^3)            <br/>\n",
    "**7. PM10:** \tPM10 concentration (ug/m^3)             <br/>\n",
    "**8. SO2:** \tSO2 concentration (ug/m^3)              <br/>\n",
    "**9. NO2:** \tNO2 concentration (ug/m^3)              <br/>\n",
    "**10. CO:** \tCO concentration (ug/m^3)           \t<br/>\n",
    "**11. O3:** \tO3 concentration (ug/m^3)           \t<br/>\n",
    "**12. TEMP:** \tTemperature (degree Celsius)            <br/>\n",
    "**13. PRES:** \tPressure (hPa)                          <br/>\n",
    "**14. DEWP:** \tDew point temperature (degree Celsius)  <br/>\n",
    "**15. RAIN:** \tPrecipitation (mm)                      <br/>\n",
    "**16. wd:** \t\tWind direction                      <br/>\n",
    "**17. WSPM:** \tWind speed (m/s)                        <br/>\n",
    "**18. station:**\tName of the air-quality monitoring site <br/>\n",
    "\n",
    "=========================================================================="
   ]
  },
  {
   "cell_type": "markdown",
   "metadata": {
    "id": "wwWdkIzg3x5W"
   },
   "source": [
    "### The process followed is highlighted below:\n",
    "\n",
    "**1. Data Cleaning** - Noise detection and removal<br/>\n",
    "**2. Subjective analysis** - Using our intuition to evaluate a data variable/feature and \n",
    "        decide whether a variable influences the popularity of the article or not.<br/>\n",
    "**3. Quantitative Analysis** - How correct is our intuition? \n",
    "      Here we carry our several analysis to accept or debunk our initial hypothesis<br/>\n",
    "**4. Normal Distribuiton Observation on the dataset**<br/>\n",
    "**5. Feature Selection and Evaluation**<br/>\n",
    "**6. Machine Learning Classification**<br/>\n",
    "**7. Summary and Conclusion**<br/>"
   ]
  },
  {
   "cell_type": "markdown",
   "metadata": {
    "id": "1bwnQSwt3x5X"
   },
   "source": [
    "<h1> 4. Load data</h1>"
   ]
  },
  {
   "cell_type": "code",
   "execution_count": 139,
   "metadata": {
    "colab": {
     "base_uri": "https://localhost:8080/"
    },
    "id": "X2hK7Wty3x5Y",
    "outputId": "b5f0430e-4372-4c62-c00d-46045ddb2035",
    "scrolled": true
   },
   "outputs": [
    {
     "name": "stdout",
     "output_type": "stream",
     "text": [
      "File path :  Documents/Technology sub/Data Science/Python/PRSA_Data_20130301-20170228\\PRSA_Data_Aotizhongxin_20130301-20170228.csv\n",
      "File path :  Documents/Technology sub/Data Science/Python/PRSA_Data_20130301-20170228\\PRSA_Data_Changping_20130301-20170228.csv\n",
      "File path :  Documents/Technology sub/Data Science/Python/PRSA_Data_20130301-20170228\\PRSA_Data_Dingling_20130301-20170228.csv\n",
      "File path :  Documents/Technology sub/Data Science/Python/PRSA_Data_20130301-20170228\\PRSA_Data_Dongsi_20130301-20170228.csv\n",
      "File path :  Documents/Technology sub/Data Science/Python/PRSA_Data_20130301-20170228\\PRSA_Data_Guanyuan_20130301-20170228.csv\n",
      "File path :  Documents/Technology sub/Data Science/Python/PRSA_Data_20130301-20170228\\PRSA_Data_Gucheng_20130301-20170228.csv\n",
      "File path :  Documents/Technology sub/Data Science/Python/PRSA_Data_20130301-20170228\\PRSA_Data_Huairou_20130301-20170228.csv\n",
      "File path :  Documents/Technology sub/Data Science/Python/PRSA_Data_20130301-20170228\\PRSA_Data_Nongzhanguan_20130301-20170228.csv\n",
      "File path :  Documents/Technology sub/Data Science/Python/PRSA_Data_20130301-20170228\\PRSA_Data_Shunyi_20130301-20170228.csv\n",
      "File path :  Documents/Technology sub/Data Science/Python/PRSA_Data_20130301-20170228\\PRSA_Data_Tiantan_20130301-20170228.csv\n",
      "File path :  Documents/Technology sub/Data Science/Python/PRSA_Data_20130301-20170228\\PRSA_Data_Wanliu_20130301-20170228.csv\n",
      "File path :  Documents/Technology sub/Data Science/Python/PRSA_Data_20130301-20170228\\PRSA_Data_Wanshouxigong_20130301-20170228.csv\n"
     ]
    }
   ],
   "source": [
    " #Input data files are available in the read-only \"../input/\" directory\n",
    "# For example, running this (by clicking run or pressing Shift+Enter) will list all files under the input directory\n",
    "df_AQI1 = pd.DataFrame()\n",
    "df_AQI2 = pd.DataFrame()\n",
    "count = 0\n",
    "for dirname, _, filenames in os.walk('Documents/Technology sub/Data Science/Python/PRSA_Data_20130301-20170228'):\n",
    "\n",
    "    for filename in filenames:\n",
    "        path = os.path.join(dirname, filename) \n",
    "\n",
    "        print('File path : ',path)\n",
    "        if count == 0:\n",
    "            df_AQI2 = pd.read_csv(path, encoding=\"utf-8\")\n",
    "            df_AQI1 = df_AQI1.append(df_AQI2)\n",
    "            count = 1\n",
    "            continue\n",
    "            \n",
    "        df_AQI2 = pd.read_csv(path, encoding=\"utf-8\")\n",
    "        df_AQI1 = df_AQI.append(df_AQI2)\n",
    "\n",
    "# You can write up to 20GB to the current directory (/kaggle/working/) that gets preserved as output when you create a version using \"Save & Run All\" \n",
    "# You can also write temporary files to /kaggle/temp/, but they won't be saved outside of the current session"
   ]
  },
  {
   "cell_type": "markdown",
   "metadata": {
    "id": "cDSUdnUt3x5a"
   },
   "source": [
    "<h1> 5. Exploratory Data Analysis</h1>"
   ]
  },
  {
   "cell_type": "code",
   "execution_count": 141,
   "metadata": {},
   "outputs": [
    {
     "data": {
      "text/html": [
       "<div>\n",
       "<style scoped>\n",
       "    .dataframe tbody tr th:only-of-type {\n",
       "        vertical-align: middle;\n",
       "    }\n",
       "\n",
       "    .dataframe tbody tr th {\n",
       "        vertical-align: top;\n",
       "    }\n",
       "\n",
       "    .dataframe thead th {\n",
       "        text-align: right;\n",
       "    }\n",
       "</style>\n",
       "<table border=\"1\" class=\"dataframe\">\n",
       "  <thead>\n",
       "    <tr style=\"text-align: right;\">\n",
       "      <th></th>\n",
       "      <th>year</th>\n",
       "      <th>month</th>\n",
       "      <th>day</th>\n",
       "      <th>hour</th>\n",
       "      <th>PM2.5</th>\n",
       "      <th>SO2</th>\n",
       "      <th>NO2</th>\n",
       "      <th>CO</th>\n",
       "      <th>O3</th>\n",
       "      <th>TEMP</th>\n",
       "      <th>PRES</th>\n",
       "      <th>DEWP</th>\n",
       "      <th>RAIN</th>\n",
       "      <th>WSPM</th>\n",
       "      <th>station</th>\n",
       "      <th>PM10</th>\n",
       "      <th>No</th>\n",
       "      <th>wd</th>\n",
       "    </tr>\n",
       "  </thead>\n",
       "  <tbody>\n",
       "    <tr>\n",
       "      <th>0</th>\n",
       "      <td>2013</td>\n",
       "      <td>NaN</td>\n",
       "      <td>1</td>\n",
       "      <td>0</td>\n",
       "      <td>4.000000</td>\n",
       "      <td>4.000000</td>\n",
       "      <td>7.000000</td>\n",
       "      <td>300.000000</td>\n",
       "      <td>77.000000</td>\n",
       "      <td>-0.700000</td>\n",
       "      <td>1023.000000</td>\n",
       "      <td>-18.800000</td>\n",
       "      <td>0.000000</td>\n",
       "      <td>4.400000</td>\n",
       "      <td>Aotizhongxin</td>\n",
       "      <td>91.000000</td>\n",
       "      <td>NaN</td>\n",
       "      <td>NaN</td>\n",
       "    </tr>\n",
       "    <tr>\n",
       "      <th>1</th>\n",
       "      <td>2013</td>\n",
       "      <td>NaN</td>\n",
       "      <td>1</td>\n",
       "      <td>1</td>\n",
       "      <td>8.000000</td>\n",
       "      <td>4.000000</td>\n",
       "      <td>7.000000</td>\n",
       "      <td>300.000000</td>\n",
       "      <td>77.000000</td>\n",
       "      <td>-1.100000</td>\n",
       "      <td>1023.200000</td>\n",
       "      <td>-18.200000</td>\n",
       "      <td>0.000000</td>\n",
       "      <td>4.700000</td>\n",
       "      <td>Aotizhongxin</td>\n",
       "      <td>91.000000</td>\n",
       "      <td>NaN</td>\n",
       "      <td>NaN</td>\n",
       "    </tr>\n",
       "    <tr>\n",
       "      <th>2</th>\n",
       "      <td>2013</td>\n",
       "      <td>NaN</td>\n",
       "      <td>1</td>\n",
       "      <td>2</td>\n",
       "      <td>7.000000</td>\n",
       "      <td>5.000000</td>\n",
       "      <td>10.000000</td>\n",
       "      <td>300.000000</td>\n",
       "      <td>73.000000</td>\n",
       "      <td>-1.100000</td>\n",
       "      <td>1023.500000</td>\n",
       "      <td>-18.200000</td>\n",
       "      <td>0.000000</td>\n",
       "      <td>5.600000</td>\n",
       "      <td>Aotizhongxin</td>\n",
       "      <td>91.000000</td>\n",
       "      <td>NaN</td>\n",
       "      <td>NaN</td>\n",
       "    </tr>\n",
       "    <tr>\n",
       "      <th>3</th>\n",
       "      <td>2013</td>\n",
       "      <td>NaN</td>\n",
       "      <td>1</td>\n",
       "      <td>3</td>\n",
       "      <td>6.000000</td>\n",
       "      <td>11.000000</td>\n",
       "      <td>11.000000</td>\n",
       "      <td>300.000000</td>\n",
       "      <td>72.000000</td>\n",
       "      <td>-1.400000</td>\n",
       "      <td>1024.500000</td>\n",
       "      <td>-19.400000</td>\n",
       "      <td>0.000000</td>\n",
       "      <td>3.100000</td>\n",
       "      <td>Aotizhongxin</td>\n",
       "      <td>91.000000</td>\n",
       "      <td>NaN</td>\n",
       "      <td>NaN</td>\n",
       "    </tr>\n",
       "    <tr>\n",
       "      <th>4</th>\n",
       "      <td>2013</td>\n",
       "      <td>NaN</td>\n",
       "      <td>1</td>\n",
       "      <td>4</td>\n",
       "      <td>3.000000</td>\n",
       "      <td>12.000000</td>\n",
       "      <td>12.000000</td>\n",
       "      <td>300.000000</td>\n",
       "      <td>72.000000</td>\n",
       "      <td>-2.000000</td>\n",
       "      <td>1025.200000</td>\n",
       "      <td>-19.500000</td>\n",
       "      <td>0.000000</td>\n",
       "      <td>2.000000</td>\n",
       "      <td>Aotizhongxin</td>\n",
       "      <td>91.000000</td>\n",
       "      <td>NaN</td>\n",
       "      <td>NaN</td>\n",
       "    </tr>\n",
       "  </tbody>\n",
       "</table>\n",
       "</div>"
      ],
      "text/plain": [
       "   year month  day  hour    PM2.5       SO2       NO2         CO        O3  \\\n",
       "0  2013   NaN    1     0 4.000000  4.000000  7.000000 300.000000 77.000000   \n",
       "1  2013   NaN    1     1 8.000000  4.000000  7.000000 300.000000 77.000000   \n",
       "2  2013   NaN    1     2 7.000000  5.000000 10.000000 300.000000 73.000000   \n",
       "3  2013   NaN    1     3 6.000000 11.000000 11.000000 300.000000 72.000000   \n",
       "4  2013   NaN    1     4 3.000000 12.000000 12.000000 300.000000 72.000000   \n",
       "\n",
       "       TEMP        PRES       DEWP     RAIN     WSPM       station      PM10  \\\n",
       "0 -0.700000 1023.000000 -18.800000 0.000000 4.400000  Aotizhongxin 91.000000   \n",
       "1 -1.100000 1023.200000 -18.200000 0.000000 4.700000  Aotizhongxin 91.000000   \n",
       "2 -1.100000 1023.500000 -18.200000 0.000000 5.600000  Aotizhongxin 91.000000   \n",
       "3 -1.400000 1024.500000 -19.400000 0.000000 3.100000  Aotizhongxin 91.000000   \n",
       "4 -2.000000 1025.200000 -19.500000 0.000000 2.000000  Aotizhongxin 91.000000   \n",
       "\n",
       "   No   wd  \n",
       "0 NaN  NaN  \n",
       "1 NaN  NaN  \n",
       "2 NaN  NaN  \n",
       "3 NaN  NaN  \n",
       "4 NaN  NaN  "
      ]
     },
     "execution_count": 141,
     "metadata": {},
     "output_type": "execute_result"
    }
   ],
   "source": [
    "#df_AQI1 = pd.DataFrame()\n",
    "df_AQI1.head()"
   ]
  },
  {
   "cell_type": "code",
   "execution_count": 142,
   "metadata": {},
   "outputs": [],
   "source": [
    "import calendar\n",
    "d = dict(enumerate(calendar.month_abbr))\n",
    "df_AQI=df_AQI1.copy()\n",
    "df_AQI['month'] = df_AQI['month'].map(d)"
   ]
  },
  {
   "cell_type": "markdown",
   "metadata": {},
   "source": [
    "<h2> 5.1. Check Data</h2>"
   ]
  },
  {
   "cell_type": "code",
   "execution_count": 143,
   "metadata": {
    "colab": {
     "base_uri": "https://localhost:8080/",
     "height": 206
    },
    "id": "kgE23bHO3x5Z",
    "outputId": "4f711a3f-df24-45a9-dc80-8bc9cb026461"
   },
   "outputs": [
    {
     "data": {
      "text/html": [
       "<div>\n",
       "<style scoped>\n",
       "    .dataframe tbody tr th:only-of-type {\n",
       "        vertical-align: middle;\n",
       "    }\n",
       "\n",
       "    .dataframe tbody tr th {\n",
       "        vertical-align: top;\n",
       "    }\n",
       "\n",
       "    .dataframe thead th {\n",
       "        text-align: right;\n",
       "    }\n",
       "</style>\n",
       "<table border=\"1\" class=\"dataframe\">\n",
       "  <thead>\n",
       "    <tr style=\"text-align: right;\">\n",
       "      <th></th>\n",
       "      <th>year</th>\n",
       "      <th>month</th>\n",
       "      <th>day</th>\n",
       "      <th>hour</th>\n",
       "      <th>PM2.5</th>\n",
       "      <th>SO2</th>\n",
       "      <th>NO2</th>\n",
       "      <th>CO</th>\n",
       "      <th>O3</th>\n",
       "      <th>TEMP</th>\n",
       "      <th>PRES</th>\n",
       "      <th>DEWP</th>\n",
       "      <th>RAIN</th>\n",
       "      <th>WSPM</th>\n",
       "      <th>station</th>\n",
       "      <th>PM10</th>\n",
       "      <th>No</th>\n",
       "      <th>wd</th>\n",
       "    </tr>\n",
       "  </thead>\n",
       "  <tbody>\n",
       "    <tr>\n",
       "      <th>0</th>\n",
       "      <td>2013</td>\n",
       "      <td>NaN</td>\n",
       "      <td>1</td>\n",
       "      <td>0</td>\n",
       "      <td>4.000000</td>\n",
       "      <td>4.000000</td>\n",
       "      <td>7.000000</td>\n",
       "      <td>300.000000</td>\n",
       "      <td>77.000000</td>\n",
       "      <td>-0.700000</td>\n",
       "      <td>1023.000000</td>\n",
       "      <td>-18.800000</td>\n",
       "      <td>0.000000</td>\n",
       "      <td>4.400000</td>\n",
       "      <td>Aotizhongxin</td>\n",
       "      <td>91.000000</td>\n",
       "      <td>NaN</td>\n",
       "      <td>NaN</td>\n",
       "    </tr>\n",
       "    <tr>\n",
       "      <th>1</th>\n",
       "      <td>2013</td>\n",
       "      <td>NaN</td>\n",
       "      <td>1</td>\n",
       "      <td>1</td>\n",
       "      <td>8.000000</td>\n",
       "      <td>4.000000</td>\n",
       "      <td>7.000000</td>\n",
       "      <td>300.000000</td>\n",
       "      <td>77.000000</td>\n",
       "      <td>-1.100000</td>\n",
       "      <td>1023.200000</td>\n",
       "      <td>-18.200000</td>\n",
       "      <td>0.000000</td>\n",
       "      <td>4.700000</td>\n",
       "      <td>Aotizhongxin</td>\n",
       "      <td>91.000000</td>\n",
       "      <td>NaN</td>\n",
       "      <td>NaN</td>\n",
       "    </tr>\n",
       "    <tr>\n",
       "      <th>2</th>\n",
       "      <td>2013</td>\n",
       "      <td>NaN</td>\n",
       "      <td>1</td>\n",
       "      <td>2</td>\n",
       "      <td>7.000000</td>\n",
       "      <td>5.000000</td>\n",
       "      <td>10.000000</td>\n",
       "      <td>300.000000</td>\n",
       "      <td>73.000000</td>\n",
       "      <td>-1.100000</td>\n",
       "      <td>1023.500000</td>\n",
       "      <td>-18.200000</td>\n",
       "      <td>0.000000</td>\n",
       "      <td>5.600000</td>\n",
       "      <td>Aotizhongxin</td>\n",
       "      <td>91.000000</td>\n",
       "      <td>NaN</td>\n",
       "      <td>NaN</td>\n",
       "    </tr>\n",
       "    <tr>\n",
       "      <th>3</th>\n",
       "      <td>2013</td>\n",
       "      <td>NaN</td>\n",
       "      <td>1</td>\n",
       "      <td>3</td>\n",
       "      <td>6.000000</td>\n",
       "      <td>11.000000</td>\n",
       "      <td>11.000000</td>\n",
       "      <td>300.000000</td>\n",
       "      <td>72.000000</td>\n",
       "      <td>-1.400000</td>\n",
       "      <td>1024.500000</td>\n",
       "      <td>-19.400000</td>\n",
       "      <td>0.000000</td>\n",
       "      <td>3.100000</td>\n",
       "      <td>Aotizhongxin</td>\n",
       "      <td>91.000000</td>\n",
       "      <td>NaN</td>\n",
       "      <td>NaN</td>\n",
       "    </tr>\n",
       "    <tr>\n",
       "      <th>4</th>\n",
       "      <td>2013</td>\n",
       "      <td>NaN</td>\n",
       "      <td>1</td>\n",
       "      <td>4</td>\n",
       "      <td>3.000000</td>\n",
       "      <td>12.000000</td>\n",
       "      <td>12.000000</td>\n",
       "      <td>300.000000</td>\n",
       "      <td>72.000000</td>\n",
       "      <td>-2.000000</td>\n",
       "      <td>1025.200000</td>\n",
       "      <td>-19.500000</td>\n",
       "      <td>0.000000</td>\n",
       "      <td>2.000000</td>\n",
       "      <td>Aotizhongxin</td>\n",
       "      <td>91.000000</td>\n",
       "      <td>NaN</td>\n",
       "      <td>NaN</td>\n",
       "    </tr>\n",
       "  </tbody>\n",
       "</table>\n",
       "</div>"
      ],
      "text/plain": [
       "   year month  day  hour    PM2.5       SO2       NO2         CO        O3  \\\n",
       "0  2013   NaN    1     0 4.000000  4.000000  7.000000 300.000000 77.000000   \n",
       "1  2013   NaN    1     1 8.000000  4.000000  7.000000 300.000000 77.000000   \n",
       "2  2013   NaN    1     2 7.000000  5.000000 10.000000 300.000000 73.000000   \n",
       "3  2013   NaN    1     3 6.000000 11.000000 11.000000 300.000000 72.000000   \n",
       "4  2013   NaN    1     4 3.000000 12.000000 12.000000 300.000000 72.000000   \n",
       "\n",
       "       TEMP        PRES       DEWP     RAIN     WSPM       station      PM10  \\\n",
       "0 -0.700000 1023.000000 -18.800000 0.000000 4.400000  Aotizhongxin 91.000000   \n",
       "1 -1.100000 1023.200000 -18.200000 0.000000 4.700000  Aotizhongxin 91.000000   \n",
       "2 -1.100000 1023.500000 -18.200000 0.000000 5.600000  Aotizhongxin 91.000000   \n",
       "3 -1.400000 1024.500000 -19.400000 0.000000 3.100000  Aotizhongxin 91.000000   \n",
       "4 -2.000000 1025.200000 -19.500000 0.000000 2.000000  Aotizhongxin 91.000000   \n",
       "\n",
       "   No   wd  \n",
       "0 NaN  NaN  \n",
       "1 NaN  NaN  \n",
       "2 NaN  NaN  \n",
       "3 NaN  NaN  \n",
       "4 NaN  NaN  "
      ]
     },
     "execution_count": 143,
     "metadata": {},
     "output_type": "execute_result"
    }
   ],
   "source": [
    "df_AQI.head()"
   ]
  },
  {
   "cell_type": "code",
   "execution_count": 120,
   "metadata": {
    "colab": {
     "base_uri": "https://localhost:8080/",
     "height": 300
    },
    "id": "y8F-57wT3x5Z",
    "outputId": "c410ff65-c8c2-4637-806a-3b65e9023129"
   },
   "outputs": [
    {
     "data": {
      "text/html": [
       "<div>\n",
       "<style scoped>\n",
       "    .dataframe tbody tr th:only-of-type {\n",
       "        vertical-align: middle;\n",
       "    }\n",
       "\n",
       "    .dataframe tbody tr th {\n",
       "        vertical-align: top;\n",
       "    }\n",
       "\n",
       "    .dataframe thead th {\n",
       "        text-align: right;\n",
       "    }\n",
       "</style>\n",
       "<table border=\"1\" class=\"dataframe\">\n",
       "  <thead>\n",
       "    <tr style=\"text-align: right;\">\n",
       "      <th></th>\n",
       "      <th>year</th>\n",
       "      <th>day</th>\n",
       "      <th>hour</th>\n",
       "      <th>PM2.5</th>\n",
       "      <th>SO2</th>\n",
       "      <th>NO2</th>\n",
       "      <th>CO</th>\n",
       "      <th>O3</th>\n",
       "      <th>TEMP</th>\n",
       "      <th>PRES</th>\n",
       "      <th>DEWP</th>\n",
       "      <th>RAIN</th>\n",
       "      <th>WSPM</th>\n",
       "      <th>PM10</th>\n",
       "      <th>No</th>\n",
       "    </tr>\n",
       "  </thead>\n",
       "  <tbody>\n",
       "    <tr>\n",
       "      <th>count</th>\n",
       "      <td>490896.000000</td>\n",
       "      <td>490896.000000</td>\n",
       "      <td>490896.000000</td>\n",
       "      <td>490200.000000</td>\n",
       "      <td>490227.000000</td>\n",
       "      <td>490142.000000</td>\n",
       "      <td>489599.000000</td>\n",
       "      <td>489818.000000</td>\n",
       "      <td>490877.000000</td>\n",
       "      <td>490877.000000</td>\n",
       "      <td>490877.000000</td>\n",
       "      <td>490877.000000</td>\n",
       "      <td>490883.000000</td>\n",
       "      <td>490412.000000</td>\n",
       "      <td>35064.000000</td>\n",
       "    </tr>\n",
       "    <tr>\n",
       "      <th>mean</th>\n",
       "      <td>2014.662560</td>\n",
       "      <td>15.729637</td>\n",
       "      <td>11.500000</td>\n",
       "      <td>80.049674</td>\n",
       "      <td>15.841194</td>\n",
       "      <td>51.323890</td>\n",
       "      <td>1235.164902</td>\n",
       "      <td>56.851153</td>\n",
       "      <td>13.574846</td>\n",
       "      <td>1010.855896</td>\n",
       "      <td>2.521753</td>\n",
       "      <td>0.064400</td>\n",
       "      <td>1.731717</td>\n",
       "      <td>93.993023</td>\n",
       "      <td>17532.500000</td>\n",
       "    </tr>\n",
       "    <tr>\n",
       "      <th>std</th>\n",
       "      <td>1.177198</td>\n",
       "      <td>8.800101</td>\n",
       "      <td>6.922194</td>\n",
       "      <td>80.886575</td>\n",
       "      <td>21.815537</td>\n",
       "      <td>34.802267</td>\n",
       "      <td>1146.220963</td>\n",
       "      <td>55.923842</td>\n",
       "      <td>11.424344</td>\n",
       "      <td>10.486951</td>\n",
       "      <td>13.775318</td>\n",
       "      <td>0.817274</td>\n",
       "      <td>1.240365</td>\n",
       "      <td>37.385889</td>\n",
       "      <td>10122.249256</td>\n",
       "    </tr>\n",
       "    <tr>\n",
       "      <th>min</th>\n",
       "      <td>2013.000000</td>\n",
       "      <td>1.000000</td>\n",
       "      <td>0.000000</td>\n",
       "      <td>2.000000</td>\n",
       "      <td>0.285600</td>\n",
       "      <td>1.026500</td>\n",
       "      <td>100.000000</td>\n",
       "      <td>0.214200</td>\n",
       "      <td>-19.900000</td>\n",
       "      <td>982.400000</td>\n",
       "      <td>-43.400000</td>\n",
       "      <td>0.000000</td>\n",
       "      <td>0.000000</td>\n",
       "      <td>2.000000</td>\n",
       "      <td>1.000000</td>\n",
       "    </tr>\n",
       "    <tr>\n",
       "      <th>25%</th>\n",
       "      <td>2014.000000</td>\n",
       "      <td>8.000000</td>\n",
       "      <td>5.750000</td>\n",
       "      <td>21.000000</td>\n",
       "      <td>3.000000</td>\n",
       "      <td>24.000000</td>\n",
       "      <td>500.000000</td>\n",
       "      <td>11.000000</td>\n",
       "      <td>3.200000</td>\n",
       "      <td>1002.300000</td>\n",
       "      <td>-8.800000</td>\n",
       "      <td>0.000000</td>\n",
       "      <td>0.900000</td>\n",
       "      <td>91.000000</td>\n",
       "      <td>8766.750000</td>\n",
       "    </tr>\n",
       "    <tr>\n",
       "      <th>50%</th>\n",
       "      <td>2015.000000</td>\n",
       "      <td>16.000000</td>\n",
       "      <td>11.500000</td>\n",
       "      <td>55.000000</td>\n",
       "      <td>7.000000</td>\n",
       "      <td>45.000000</td>\n",
       "      <td>900.000000</td>\n",
       "      <td>45.000000</td>\n",
       "      <td>14.500000</td>\n",
       "      <td>1010.400000</td>\n",
       "      <td>3.100000</td>\n",
       "      <td>0.000000</td>\n",
       "      <td>1.400000</td>\n",
       "      <td>91.000000</td>\n",
       "      <td>17532.500000</td>\n",
       "    </tr>\n",
       "    <tr>\n",
       "      <th>75%</th>\n",
       "      <td>2016.000000</td>\n",
       "      <td>23.000000</td>\n",
       "      <td>17.250000</td>\n",
       "      <td>110.000000</td>\n",
       "      <td>19.000000</td>\n",
       "      <td>71.000000</td>\n",
       "      <td>1500.000000</td>\n",
       "      <td>80.000000</td>\n",
       "      <td>23.300000</td>\n",
       "      <td>1019.100000</td>\n",
       "      <td>15.100000</td>\n",
       "      <td>0.000000</td>\n",
       "      <td>2.200000</td>\n",
       "      <td>91.000000</td>\n",
       "      <td>26298.250000</td>\n",
       "    </tr>\n",
       "    <tr>\n",
       "      <th>max</th>\n",
       "      <td>2017.000000</td>\n",
       "      <td>31.000000</td>\n",
       "      <td>23.000000</td>\n",
       "      <td>999.000000</td>\n",
       "      <td>500.000000</td>\n",
       "      <td>290.000000</td>\n",
       "      <td>10000.000000</td>\n",
       "      <td>1071.000000</td>\n",
       "      <td>41.600000</td>\n",
       "      <td>1042.800000</td>\n",
       "      <td>29.100000</td>\n",
       "      <td>72.500000</td>\n",
       "      <td>13.200000</td>\n",
       "      <td>961.000000</td>\n",
       "      <td>35064.000000</td>\n",
       "    </tr>\n",
       "  </tbody>\n",
       "</table>\n",
       "</div>"
      ],
      "text/plain": [
       "               year           day          hour         PM2.5           SO2  \\\n",
       "count 490896.000000 490896.000000 490896.000000 490200.000000 490227.000000   \n",
       "mean    2014.662560     15.729637     11.500000     80.049674     15.841194   \n",
       "std        1.177198      8.800101      6.922194     80.886575     21.815537   \n",
       "min     2013.000000      1.000000      0.000000      2.000000      0.285600   \n",
       "25%     2014.000000      8.000000      5.750000     21.000000      3.000000   \n",
       "50%     2015.000000     16.000000     11.500000     55.000000      7.000000   \n",
       "75%     2016.000000     23.000000     17.250000    110.000000     19.000000   \n",
       "max     2017.000000     31.000000     23.000000    999.000000    500.000000   \n",
       "\n",
       "                NO2            CO            O3          TEMP          PRES  \\\n",
       "count 490142.000000 489599.000000 489818.000000 490877.000000 490877.000000   \n",
       "mean      51.323890   1235.164902     56.851153     13.574846   1010.855896   \n",
       "std       34.802267   1146.220963     55.923842     11.424344     10.486951   \n",
       "min        1.026500    100.000000      0.214200    -19.900000    982.400000   \n",
       "25%       24.000000    500.000000     11.000000      3.200000   1002.300000   \n",
       "50%       45.000000    900.000000     45.000000     14.500000   1010.400000   \n",
       "75%       71.000000   1500.000000     80.000000     23.300000   1019.100000   \n",
       "max      290.000000  10000.000000   1071.000000     41.600000   1042.800000   \n",
       "\n",
       "               DEWP          RAIN          WSPM          PM10           No  \n",
       "count 490877.000000 490877.000000 490883.000000 490412.000000 35064.000000  \n",
       "mean       2.521753      0.064400      1.731717     93.993023 17532.500000  \n",
       "std       13.775318      0.817274      1.240365     37.385889 10122.249256  \n",
       "min      -43.400000      0.000000      0.000000      2.000000     1.000000  \n",
       "25%       -8.800000      0.000000      0.900000     91.000000  8766.750000  \n",
       "50%        3.100000      0.000000      1.400000     91.000000 17532.500000  \n",
       "75%       15.100000      0.000000      2.200000     91.000000 26298.250000  \n",
       "max       29.100000     72.500000     13.200000    961.000000 35064.000000  "
      ]
     },
     "execution_count": 120,
     "metadata": {},
     "output_type": "execute_result"
    }
   ],
   "source": [
    "df_AQI.describe()"
   ]
  },
  {
   "cell_type": "code",
   "execution_count": 121,
   "metadata": {
    "colab": {
     "base_uri": "https://localhost:8080/"
    },
    "id": "7tUXRSPT3x5a",
    "outputId": "ec2ec62b-9639-47f1-a888-0eba4ea93d1f"
   },
   "outputs": [
    {
     "name": "stdout",
     "output_type": "stream",
     "text": [
      "<class 'pandas.core.frame.DataFrame'>\n",
      "Int64Index: 490896 entries, 0 to 35063\n",
      "Data columns (total 18 columns):\n",
      " #   Column   Non-Null Count   Dtype  \n",
      "---  ------   --------------   -----  \n",
      " 0   year     490896 non-null  int64  \n",
      " 1   month    35064 non-null   object \n",
      " 2   day      490896 non-null  int64  \n",
      " 3   hour     490896 non-null  int64  \n",
      " 4   PM2.5    490200 non-null  float64\n",
      " 5   SO2      490227 non-null  float64\n",
      " 6   NO2      490142 non-null  float64\n",
      " 7   CO       489599 non-null  float64\n",
      " 8   O3       489818 non-null  float64\n",
      " 9   TEMP     490877 non-null  float64\n",
      " 10  PRES     490877 non-null  float64\n",
      " 11  DEWP     490877 non-null  float64\n",
      " 12  RAIN     490877 non-null  float64\n",
      " 13  WSPM     490883 non-null  float64\n",
      " 14  station  490896 non-null  object \n",
      " 15  PM10     490412 non-null  float64\n",
      " 16  No       35064 non-null   float64\n",
      " 17  wd       34985 non-null   object \n",
      "dtypes: float64(12), int64(3), object(3)\n",
      "memory usage: 71.2+ MB\n"
     ]
    }
   ],
   "source": [
    "df_AQI.info()"
   ]
  },
  {
   "cell_type": "markdown",
   "metadata": {
    "id": "43x9Zl-C3x5b"
   },
   "source": [
    "<a id='quantitative'></a>\n",
    "### <span style=\"font-family: Arial; font-weight:bold;font-size:1em;color:black;\"> Quantitative Variable:Numerical Data Details"
   ]
  },
  {
   "cell_type": "code",
   "execution_count": 122,
   "metadata": {
    "colab": {
     "base_uri": "https://localhost:8080/"
    },
    "id": "L2VwJo-C3x5b",
    "outputId": "fc5778b4-e2e6-46d3-ffed-f84f9cc95b2d"
   },
   "outputs": [
    {
     "name": "stdout",
     "output_type": "stream",
     "text": [
      "<class 'pandas.core.frame.DataFrame'>\n",
      "Int64Index: 490896 entries, 0 to 35063\n",
      "Data columns (total 15 columns):\n",
      " #   Column  Non-Null Count   Dtype  \n",
      "---  ------  --------------   -----  \n",
      " 0   year    490896 non-null  int64  \n",
      " 1   day     490896 non-null  int64  \n",
      " 2   hour    490896 non-null  int64  \n",
      " 3   PM2.5   490200 non-null  float64\n",
      " 4   SO2     490227 non-null  float64\n",
      " 5   NO2     490142 non-null  float64\n",
      " 6   CO      489599 non-null  float64\n",
      " 7   O3      489818 non-null  float64\n",
      " 8   TEMP    490877 non-null  float64\n",
      " 9   PRES    490877 non-null  float64\n",
      " 10  DEWP    490877 non-null  float64\n",
      " 11  RAIN    490877 non-null  float64\n",
      " 12  WSPM    490883 non-null  float64\n",
      " 13  PM10    490412 non-null  float64\n",
      " 14  No      35064 non-null   float64\n",
      "dtypes: float64(12), int64(3)\n",
      "memory usage: 59.9 MB\n"
     ]
    }
   ],
   "source": [
    "df_Quantitative = df_AQI.select_dtypes(exclude='object')\n",
    "df_Quantitative.info()"
   ]
  },
  {
   "cell_type": "markdown",
   "metadata": {
    "id": "A4TwIVPn3x5b"
   },
   "source": [
    "<a id='qualitative'></a>\n",
    "## <span style=\"font-family: Arial; font-weight:bold;font-size:1em;color:black;\">Qualitative Variable:Categorical Data Details"
   ]
  },
  {
   "cell_type": "code",
   "execution_count": 123,
   "metadata": {
    "colab": {
     "base_uri": "https://localhost:8080/"
    },
    "id": "LJvEUPBt3x5c",
    "outputId": "fac0e94f-7886-46e5-d77c-c535c1a05e97"
   },
   "outputs": [
    {
     "name": "stdout",
     "output_type": "stream",
     "text": [
      "<class 'pandas.core.frame.DataFrame'>\n",
      "Int64Index: 490896 entries, 0 to 35063\n",
      "Data columns (total 3 columns):\n",
      " #   Column   Non-Null Count   Dtype \n",
      "---  ------   --------------   ----- \n",
      " 0   month    35064 non-null   object\n",
      " 1   station  490896 non-null  object\n",
      " 2   wd       34985 non-null   object\n",
      "dtypes: object(3)\n",
      "memory usage: 15.0+ MB\n"
     ]
    }
   ],
   "source": [
    "df_Qualitative = df_AQI.select_dtypes(exclude=np.number)\n",
    "df_Qualitative.info()"
   ]
  },
  {
   "cell_type": "markdown",
   "metadata": {
    "id": "qtIpXsLO3x5e"
   },
   "source": [
    "<h2> 5.2 data Cleaning</h2>"
   ]
  },
  {
   "cell_type": "markdown",
   "metadata": {},
   "source": [
    "columns with missing values"
   ]
  },
  {
   "cell_type": "code",
   "execution_count": 124,
   "metadata": {
    "colab": {
     "base_uri": "https://localhost:8080/"
    },
    "id": "G8ntI26j3x5e",
    "outputId": "b3ae7c75-8dd4-435b-b85d-58afdbb1e906"
   },
   "outputs": [
    {
     "data": {
      "text/plain": [
       "1372642"
      ]
     },
     "execution_count": 124,
     "metadata": {},
     "output_type": "execute_result"
    }
   ],
   "source": [
    "df_AQI.isna().sum().sum()"
   ]
  },
  {
   "cell_type": "code",
   "execution_count": 82,
   "metadata": {
    "colab": {
     "base_uri": "https://localhost:8080/"
    },
    "id": "_PsUbYpl3x5e",
    "outputId": "cf55254b-bade-4e6d-ef7c-e00accae8b6a"
   },
   "outputs": [
    {
     "data": {
      "text/plain": [
       "year       0.000000\n",
       "month      0.000000\n",
       "day        0.000000\n",
       "hour       0.000000\n",
       "PM2.5      0.000000\n",
       "SO2        0.000000\n",
       "NO2        0.000000\n",
       "CO         0.000000\n",
       "O3         0.000000\n",
       "TEMP       0.000000\n",
       "PRES       0.000000\n",
       "DEWP       0.000000\n",
       "RAIN       0.000000\n",
       "WSPM       0.000000\n",
       "station    0.000000\n",
       "No        92.000000\n",
       "PM10      92.000000\n",
       "wd        92.000000\n",
       "dtype: float64"
      ]
     },
     "execution_count": 82,
     "metadata": {},
     "output_type": "execute_result"
    }
   ],
   "source": [
    "# percentage of missing values in each column\n",
    "round(df_AQI.isnull().sum()/len(df_AQI.index), 2)*100"
   ]
  },
  {
   "cell_type": "markdown",
   "metadata": {
    "id": "sjTXIp3L3x5f"
   },
   "source": [
    "<table width=100%>\n",
    "    <tr>\n",
    "        <td>\n",
    "            <div align=\"left\">\n",
    "                <font size=4px>\n",
    "                    <b> <h3>Imputing Missing Values</h3></b>\n",
    "                </font>\n",
    "            </div>\n",
    "        </td>\n",
    "        <td width=\"20%\">\n",
    "            <div align=\"rigth\">\n",
    "            <img src=\"https://th.bing.com/th/id/OIP.bgivqnU_a21HC0KMmWbMmQHaF7?pid=ImgDet&rs=1\">\n",
    "            </div\n",
    "        </td><br/>\n",
    "  \n",
    "</table>"
   ]
  },
  {
   "cell_type": "code",
   "execution_count": 83,
   "metadata": {
    "id": "X9RibKQR3x5f"
   },
   "outputs": [],
   "source": [
    "df_AQI['PM2.5'].fillna(df_AQI['PM2.5'].median(), inplace=True)\n",
    "df_AQI['PM10'].fillna(df_AQI['PM10'].median(), inplace=True)\n",
    "df_AQI['SO2'].fillna(df_AQI['SO2'].median(), inplace=True)\n",
    "df_AQI['NO2'].fillna(df_AQI['NO2'].mean(), inplace=True)\n",
    "df_AQI['CO'].fillna(df_AQI['CO'].median(), inplace=True)\n",
    "df_AQI['O3'].fillna(df_AQI['O3'].median(), inplace=True)\n",
    "df_AQI['TEMP'].fillna(df_AQI['TEMP'].median(), inplace=True)\n",
    "df_AQI['PRES'].fillna(df_AQI['PRES'].median(), inplace=True)\n",
    "df_AQI['DEWP'].fillna(df_AQI['DEWP'].mean(), inplace=True)\n",
    "df_AQI['RAIN'].fillna(df_AQI['RAIN'].median(), inplace=True)\n",
    "df_AQI['WSPM'].fillna(df_AQI['WSPM'].median(), inplace=True)"
   ]
  },
  {
   "cell_type": "code",
   "execution_count": 84,
   "metadata": {
    "colab": {
     "base_uri": "https://localhost:8080/"
    },
    "id": "mpOZPJyr3x5g",
    "outputId": "f014f8be-66cb-49ba-ef1e-365e8845ca03"
   },
   "outputs": [
    {
     "data": {
      "text/plain": [
       "year       0.000000\n",
       "month      0.000000\n",
       "day        0.000000\n",
       "hour       0.000000\n",
       "PM2.5      0.000000\n",
       "SO2        0.000000\n",
       "NO2        0.000000\n",
       "CO         0.000000\n",
       "O3         0.000000\n",
       "TEMP       0.000000\n",
       "PRES       0.000000\n",
       "DEWP       0.000000\n",
       "RAIN       0.000000\n",
       "WSPM       0.000000\n",
       "station    0.000000\n",
       "No        92.000000\n",
       "PM10       0.000000\n",
       "wd        92.000000\n",
       "dtype: float64"
      ]
     },
     "execution_count": 84,
     "metadata": {},
     "output_type": "execute_result"
    }
   ],
   "source": [
    "round(df_AQI.isnull().sum()/len(df_AQI.index), 2)*100"
   ]
  },
  {
   "cell_type": "code",
   "execution_count": 85,
   "metadata": {
    "colab": {
     "base_uri": "https://localhost:8080/"
    },
    "id": "pIk7Hden3x5g",
    "outputId": "47baa37c-46b0-4d01-d53a-e25c70daf920"
   },
   "outputs": [
    {
     "data": {
      "text/plain": [
       "0"
      ]
     },
     "execution_count": 85,
     "metadata": {},
     "output_type": "execute_result"
    }
   ],
   "source": [
    "df_AQI = df_AQI.drop(['wd', 'No'], axis=1)\n",
    "df_AQI.isna().sum().sum()"
   ]
  },
  {
   "cell_type": "markdown",
   "metadata": {
    "id": "4xFkD40f3x5g"
   },
   "source": [
    "<a id='summary_stats'></a>\n",
    "## <span style=\"font-family: Arial; font-weight:bold;font-size:1em;color:black;\">   Summary Statistics"
   ]
  },
  {
   "cell_type": "code",
   "execution_count": 86,
   "metadata": {
    "colab": {
     "base_uri": "https://localhost:8080/",
     "height": 394
    },
    "id": "z4JnaN0X3x5h",
    "outputId": "eeba06c6-d513-46dd-f375-d09281ab6ded",
    "scrolled": true
   },
   "outputs": [
    {
     "data": {
      "text/html": [
       "<div>\n",
       "<style scoped>\n",
       "    .dataframe tbody tr th:only-of-type {\n",
       "        vertical-align: middle;\n",
       "    }\n",
       "\n",
       "    .dataframe tbody tr th {\n",
       "        vertical-align: top;\n",
       "    }\n",
       "\n",
       "    .dataframe thead th {\n",
       "        text-align: right;\n",
       "    }\n",
       "</style>\n",
       "<table border=\"1\" class=\"dataframe\">\n",
       "  <thead>\n",
       "    <tr style=\"text-align: right;\">\n",
       "      <th></th>\n",
       "      <th>count</th>\n",
       "      <th>mean</th>\n",
       "      <th>std</th>\n",
       "      <th>min</th>\n",
       "      <th>25%</th>\n",
       "      <th>50%</th>\n",
       "      <th>75%</th>\n",
       "      <th>max</th>\n",
       "    </tr>\n",
       "  </thead>\n",
       "  <tbody>\n",
       "    <tr>\n",
       "      <th>PM2.5</th>\n",
       "      <td>455832.000000</td>\n",
       "      <td>79.674619</td>\n",
       "      <td>80.477443</td>\n",
       "      <td>2.000000</td>\n",
       "      <td>21.000000</td>\n",
       "      <td>55.000000</td>\n",
       "      <td>110.000000</td>\n",
       "      <td>999.000000</td>\n",
       "    </tr>\n",
       "    <tr>\n",
       "      <th>SO2</th>\n",
       "      <td>455832.000000</td>\n",
       "      <td>15.742543</td>\n",
       "      <td>21.643531</td>\n",
       "      <td>0.285600</td>\n",
       "      <td>3.000000</td>\n",
       "      <td>7.000000</td>\n",
       "      <td>19.000000</td>\n",
       "      <td>500.000000</td>\n",
       "    </tr>\n",
       "    <tr>\n",
       "      <th>NO2</th>\n",
       "      <td>455832.000000</td>\n",
       "      <td>51.007334</td>\n",
       "      <td>34.704806</td>\n",
       "      <td>1.026500</td>\n",
       "      <td>24.000000</td>\n",
       "      <td>45.000000</td>\n",
       "      <td>71.000000</td>\n",
       "      <td>290.000000</td>\n",
       "    </tr>\n",
       "    <tr>\n",
       "      <th>CO</th>\n",
       "      <td>455832.000000</td>\n",
       "      <td>1225.147361</td>\n",
       "      <td>1139.679908</td>\n",
       "      <td>100.000000</td>\n",
       "      <td>500.000000</td>\n",
       "      <td>900.000000</td>\n",
       "      <td>1500.000000</td>\n",
       "      <td>10000.000000</td>\n",
       "    </tr>\n",
       "    <tr>\n",
       "      <th>O3</th>\n",
       "      <td>455832.000000</td>\n",
       "      <td>56.897473</td>\n",
       "      <td>55.836262</td>\n",
       "      <td>0.214200</td>\n",
       "      <td>11.000000</td>\n",
       "      <td>45.000000</td>\n",
       "      <td>80.000000</td>\n",
       "      <td>1071.000000</td>\n",
       "    </tr>\n",
       "    <tr>\n",
       "      <th>TEMP</th>\n",
       "      <td>455832.000000</td>\n",
       "      <td>13.558729</td>\n",
       "      <td>11.427204</td>\n",
       "      <td>-19.900000</td>\n",
       "      <td>3.200000</td>\n",
       "      <td>14.500000</td>\n",
       "      <td>23.300000</td>\n",
       "      <td>41.600000</td>\n",
       "    </tr>\n",
       "    <tr>\n",
       "      <th>PRES</th>\n",
       "      <td>455832.000000</td>\n",
       "      <td>1010.805469</td>\n",
       "      <td>10.478779</td>\n",
       "      <td>982.400000</td>\n",
       "      <td>1002.300000</td>\n",
       "      <td>1010.400000</td>\n",
       "      <td>1019.000000</td>\n",
       "      <td>1042.800000</td>\n",
       "    </tr>\n",
       "    <tr>\n",
       "      <th>DEWP</th>\n",
       "      <td>455832.000000</td>\n",
       "      <td>2.507477</td>\n",
       "      <td>13.780687</td>\n",
       "      <td>-43.400000</td>\n",
       "      <td>-8.900000</td>\n",
       "      <td>3.000000</td>\n",
       "      <td>15.100000</td>\n",
       "      <td>29.100000</td>\n",
       "    </tr>\n",
       "    <tr>\n",
       "      <th>RAIN</th>\n",
       "      <td>455832.000000</td>\n",
       "      <td>0.064406</td>\n",
       "      <td>0.818814</td>\n",
       "      <td>0.000000</td>\n",
       "      <td>0.000000</td>\n",
       "      <td>0.000000</td>\n",
       "      <td>0.000000</td>\n",
       "      <td>72.500000</td>\n",
       "    </tr>\n",
       "    <tr>\n",
       "      <th>WSPM</th>\n",
       "      <td>455832.000000</td>\n",
       "      <td>1.730671</td>\n",
       "      <td>1.242937</td>\n",
       "      <td>0.000000</td>\n",
       "      <td>0.900000</td>\n",
       "      <td>1.400000</td>\n",
       "      <td>2.200000</td>\n",
       "      <td>13.200000</td>\n",
       "    </tr>\n",
       "    <tr>\n",
       "      <th>PM10</th>\n",
       "      <td>455832.000000</td>\n",
       "      <td>92.610039</td>\n",
       "      <td>27.460789</td>\n",
       "      <td>2.000000</td>\n",
       "      <td>91.000000</td>\n",
       "      <td>91.000000</td>\n",
       "      <td>91.000000</td>\n",
       "      <td>961.000000</td>\n",
       "    </tr>\n",
       "  </tbody>\n",
       "</table>\n",
       "</div>"
      ],
      "text/plain": [
       "              count        mean         std        min         25%  \\\n",
       "PM2.5 455832.000000   79.674619   80.477443   2.000000   21.000000   \n",
       "SO2   455832.000000   15.742543   21.643531   0.285600    3.000000   \n",
       "NO2   455832.000000   51.007334   34.704806   1.026500   24.000000   \n",
       "CO    455832.000000 1225.147361 1139.679908 100.000000  500.000000   \n",
       "O3    455832.000000   56.897473   55.836262   0.214200   11.000000   \n",
       "TEMP  455832.000000   13.558729   11.427204 -19.900000    3.200000   \n",
       "PRES  455832.000000 1010.805469   10.478779 982.400000 1002.300000   \n",
       "DEWP  455832.000000    2.507477   13.780687 -43.400000   -8.900000   \n",
       "RAIN  455832.000000    0.064406    0.818814   0.000000    0.000000   \n",
       "WSPM  455832.000000    1.730671    1.242937   0.000000    0.900000   \n",
       "PM10  455832.000000   92.610039   27.460789   2.000000   91.000000   \n",
       "\n",
       "              50%         75%          max  \n",
       "PM2.5   55.000000  110.000000   999.000000  \n",
       "SO2      7.000000   19.000000   500.000000  \n",
       "NO2     45.000000   71.000000   290.000000  \n",
       "CO     900.000000 1500.000000 10000.000000  \n",
       "O3      45.000000   80.000000  1071.000000  \n",
       "TEMP    14.500000   23.300000    41.600000  \n",
       "PRES  1010.400000 1019.000000  1042.800000  \n",
       "DEWP     3.000000   15.100000    29.100000  \n",
       "RAIN     0.000000    0.000000    72.500000  \n",
       "WSPM     1.400000    2.200000    13.200000  \n",
       "PM10    91.000000   91.000000   961.000000  "
      ]
     },
     "execution_count": 86,
     "metadata": {},
     "output_type": "execute_result"
    }
   ],
   "source": [
    "df_AQI.drop(['year','month','day','hour'],axis=1).describe().transpose()"
   ]
  },
  {
   "cell_type": "markdown",
   "metadata": {
    "id": "vIoTHSV23x5k"
   },
   "source": [
    "### Check Standard Deviation is Zero, if any remove from the analysis"
   ]
  },
  {
   "cell_type": "code",
   "execution_count": 87,
   "metadata": {
    "colab": {
     "base_uri": "https://localhost:8080/"
    },
    "id": "MBS84KF83x5m",
    "outputId": "edc9fd61-a585-4a23-f015-6e47d8d3eb7e"
   },
   "outputs": [
    {
     "data": {
      "text/plain": [
       "year       1.177198\n",
       "day        8.800102\n",
       "hour       6.922194\n",
       "PM2.5     80.477443\n",
       "SO2       21.643531\n",
       "NO2       34.704806\n",
       "CO      1139.679908\n",
       "O3        55.836262\n",
       "TEMP      11.427204\n",
       "PRES      10.478779\n",
       "DEWP      13.780687\n",
       "RAIN       0.818814\n",
       "WSPM       1.242937\n",
       "PM10      27.460789\n",
       "dtype: float64"
      ]
     },
     "execution_count": 87,
     "metadata": {},
     "output_type": "execute_result"
    }
   ],
   "source": [
    "df_AQI.std()"
   ]
  },
  {
   "cell_type": "markdown",
   "metadata": {
    "id": "FpP7xM_93x5m"
   },
   "source": [
    "**Interpretation:** There are no zero standard devition of given data set"
   ]
  },
  {
   "cell_type": "markdown",
   "metadata": {},
   "source": [
    "<a id=\"outlier\"></a>\n",
    "#### Outlier Analysis and Treatment for all features"
   ]
  },
  {
   "cell_type": "code",
   "execution_count": 88,
   "metadata": {},
   "outputs": [
    {
     "data": {
      "image/png": "[encoded data removed]",
      "text/plain": [
       "<Figure size 1080x360 with 1 Axes>"
      ]
     },
     "metadata": {
      "needs_background": "light"
     },
     "output_type": "display_data"
    }
   ],
   "source": [
    "data = df_AQI.copy()\n",
    "data = data.select_dtypes(exclude='object')\n",
    "# set the plot size using figure()\n",
    "# pass width and height in inches to 'figsize' \n",
    "plt.figure(figsize = (15,5))\n",
    "\n",
    "# plot a boxplot to visualize the outliers in all the numeric variables\n",
    "data.boxplot()\n",
    "\n",
    "# set plot label\n",
    "# set text size using 'fontsize'\n",
    "plt.title('Distribution of all Numeric Variables', fontsize = 15)\n",
    "\n",
    "# xticks() returns the x-axis ticks\n",
    "# 'rotation = vertical' rotates the x-axis labels vertically\n",
    "plt.xticks(rotation = 'vertical', fontsize = 10)\n",
    "\n",
    "# display the plot\n",
    "plt.show()"
   ]
  },
  {
   "cell_type": "markdown",
   "metadata": {},
   "source": [
    "**Interpretation:** From the above plots, we notice that all the variables have points above the upper extreme or below the lower extreme - these points are outliers in the data. However, the exact location of these points is not precisely seen."
   ]
  },
  {
   "cell_type": "markdown",
   "metadata": {
    "id": "jbgEPXxP3x5p"
   },
   "source": [
    "### Correlation between features and ploting Heat map:"
   ]
  },
  {
   "cell_type": "code",
   "execution_count": 89,
   "metadata": {
    "colab": {
     "base_uri": "https://localhost:8080/",
     "height": 954
    },
    "id": "V4rcbZUk3x5q",
    "outputId": "2ede187f-e879-4bab-ea2b-5faee599ece3"
   },
   "outputs": [
    {
     "name": "stdout",
     "output_type": "stream",
     "text": [
      "Multi-Collinearity Feature:: NO2 &  PM2.5 :-> Correlation Score 0.6608\n",
      "Multi-Collinearity Feature:: NO2 &  CO :-> Correlation Score 0.6912\n",
      "Multi-Collinearity Feature:: CO &  PM2.5 :-> Correlation Score 0.7697\n",
      "Multi-Collinearity Feature:: CO &  SO2 :-> Correlation Score 0.5265\n",
      "Multi-Collinearity Feature:: CO &  NO2 :-> Correlation Score 0.6912\n",
      "Multi-Collinearity Feature:: TEMP &  O3 :-> Correlation Score 0.5875\n",
      "Multi-Collinearity Feature:: TEMP &  DEWP :-> Correlation Score 0.8199\n"
     ]
    },
    {
     "data": {
      "text/plain": [
       "<AxesSubplot:>"
      ]
     },
     "execution_count": 89,
     "metadata": {},
     "output_type": "execute_result"
    },
    {
     "data": {
      "image/png": "[encoded data removed]",
      "text/plain": [
       "<Figure size 864x720 with 2 Axes>"
      ]
     },
     "metadata": {
      "needs_background": "light"
     },
     "output_type": "display_data"
    }
   ],
   "source": [
    "import seaborn as sns\n",
    "data = df_AQI.select_dtypes(exclude='object').copy()\n",
    "data = data.drop(['PM10'],axis=1)\n",
    "corrmat = data.select_dtypes(exclude='object').corr()\n",
    "f, ax = plt.subplots(figsize=(12, 10))\n",
    "\n",
    "dupl_key_values = list()\n",
    "for i in range(len(corrmat.columns)):\n",
    "  for j in range(len(corrmat.index)):\n",
    "    if corrmat.iloc[i,j]>0.50 and corrmat.iloc[i,j] != 1.0:\n",
    "        if i not in dupl_key_values or j in dupl_key_values:\n",
    "            dupl_key_values.append(j)\n",
    "        if i in dupl_key_values or j not in dupl_key_values:\n",
    "            dupl_key_values.append(i)\n",
    "            print('Multi-Collinearity Feature:: {} &  {} :-> Correlation Score {}'.format(corrmat.columns[i],corrmat.columns[j],round(corrmat.iloc[i,j],4)))\n",
    "\n",
    "sns.heatmap(round(corrmat, 2), vmax=.8, square=True, annot=True,cmap='cubehelix')"
   ]
  },
  {
   "cell_type": "markdown",
   "metadata": {
    "id": "KGyWifW93x5r",
    "jp-MarkdownHeadingCollapsed": true,
    "tags": []
   },
   "source": [
    "#### Interpretation: Relatively high correlation seen among CO, NO2, SO2 and PM2.5 and also between O3 and temp.\n",
    "\n",
    "##### #Correlation Score#\n",
    "1. NO2 &  PM2.5 :-> 0.658\n",
    "2. Multi-Collinearity Feature:: NO2 &  CO :-> 0.6869\n",
    "3. Multi-Collinearity Feature:: CO &  PM2.5 :-> 0.7672\n",
    "4. Multi-Collinearity Feature:: CO &  SO2 :-> 0.5235\n",
    "5. Multi-Collinearity Feature:: CO &  NO2 :-> 0.6869\n",
    "6. Multi-Collinearity Feature:: TEMP &  O3 :-> 0.5858\n",
    "7. Multi-Collinearity Feature:: TEMP &  DEWP :-> 0.8201\n",
    "\n",
    "\n",
    "**Subsequent models might have high Multicolinearity behavior**"
   ]
  },
  {
   "cell_type": "markdown",
   "metadata": {
    "id": "XJpkc1Za3x5v"
   },
   "source": [
    "### Yearly Analysis of Different Pollutants"
   ]
  },
  {
   "cell_type": "code",
   "execution_count": 90,
   "metadata": {
    "colab": {
     "base_uri": "https://localhost:8080/",
     "height": 607
    },
    "id": "zIKel6z83x5v",
    "outputId": "75fd5d95-2c7a-4776-d727-e5b926321ed5"
   },
   "outputs": [
    {
     "data": {
      "image/png": "[encoded data removed]",
      "text/plain": [
       "<Figure size 1080x432 with 6 Axes>"
      ]
     },
     "metadata": {
      "needs_background": "light"
     },
     "output_type": "display_data"
    }
   ],
   "source": [
    "df = df_AQI[['SO2','year','station']].groupby([\"year\"]).median().reset_index().sort_values(by='year',ascending=False)\n",
    "fig,ax=plt.subplots(2, 3,figsize=(15,6))\n",
    "ax[0, 0].set_title('SO2-By-Year')\n",
    "sns.pointplot(ax= ax[0,0],x='year', y='SO2', data=df)\n",
    "\n",
    "df = df_AQI[['NO2','year','station']].groupby([\"year\"]).median().reset_index().sort_values(by='year',ascending=False)\n",
    "ax[0, 1].set_title('NO2-By-Year')\n",
    "sns.pointplot(ax= ax[0,1], x='year', y='NO2', data=df,markers='o', color='red')\n",
    "\n",
    "df = df_AQI[['CO','year','station']].groupby([\"year\"]).median().reset_index().sort_values(by='year',ascending=False)\n",
    "ax[0, 2].set_title('CO-By-Year')\n",
    "sns.pointplot(ax= ax[0,2],x='year', y='CO', data=df,markers='o', color='olive')\n",
    "\n",
    "df = df_AQI[['O3','year','station']].groupby([\"year\"]).median().reset_index().sort_values(by='year',ascending=False)\n",
    "ax[1, 0].set_title('O3-By-Year')\n",
    "sns.pointplot(ax=ax[1, 0], x='year', y='O3', data=df,markers='o', color='green')\n",
    "\n",
    "\n",
    "df = df_AQI[['PM2.5','year','station']].groupby([\"year\"]).median().reset_index().sort_values(by='year',ascending=False)\n",
    "ax[1, 1].set_title('PM2.5-By-Year')\n",
    "sns.pointplot(ax=ax[1, 1],x='year', y='PM2.5', data=df,markers='o', color='yellow')\n",
    "\n",
    "\n",
    "df = df_AQI[['PM10','year','station']].groupby([\"year\"]).median().reset_index().sort_values(by='year',ascending=False)\n",
    "ax[1, 2].set_title('PM10-By-Year')\n",
    "sns.pointplot(ax=ax[1,2], x='year', y='PM10', data=df,markers='o', color='orange')\n",
    "fig.tight_layout()"
   ]
  },
  {
   "cell_type": "markdown",
   "metadata": {
    "id": "3_3YXfLW3x5v"
   },
   "source": [
    "**Interpretation:** <br/>\n",
    "\n",
    "From the above plots:<br/>\n",
    "By the end of 2017 fine particulate pollution (PM2. 5) fell by 35% and by 25% in the surrounding Beijing-Tianjin-Hebei region. Much of this reduction came from measures to control coal-fired boilers, provide cleaner domestic fuels, and industrial restructuring\n",
    "https://www.ccacoalition.org/en/news/beijing%E2%80%99s-air-quality-improvements-are-model-other-cities#:~:text=By%20the%20end%20of%202017,domestic%20fuels%2C%20and%20industrial%20restructuring."
   ]
  },
  {
   "cell_type": "markdown",
   "metadata": {
    "id": "AGloqrLX3x5w"
   },
   "source": [
    "### Hourly Analysis of Pollutants in 2017"
   ]
  },
  {
   "cell_type": "code",
   "execution_count": 91,
   "metadata": {
    "id": "tO5X4RQQ3x5x"
   },
   "outputs": [],
   "source": [
    "df_2017 = df_AQI[df_AQI['year']==2017]"
   ]
  },
  {
   "cell_type": "code",
   "execution_count": 92,
   "metadata": {
    "colab": {
     "base_uri": "https://localhost:8080/",
     "height": 607
    },
    "id": "xvS0bR9W3x5z",
    "outputId": "d18c30ca-9f85-4882-8629-796cf407800d",
    "scrolled": true
   },
   "outputs": [
    {
     "data": {
      "image/png": "[encoded data removed]",
      "text/plain": [
       "<Figure size 1080x432 with 6 Axes>"
      ]
     },
     "metadata": {
      "needs_background": "light"
     },
     "output_type": "display_data"
    }
   ],
   "source": [
    "df = df_2017[['SO2','hour','station']].groupby([\"hour\"]).median().reset_index().sort_values(by='hour',ascending=False)\n",
    "fig,ax=plt.subplots(2, 3, figsize=(15,6))\n",
    "ax[0, 0].set_title('SO2-By-Hour')\n",
    "sns.pointplot(ax=ax[0,0],x='hour', y='SO2', data=df)\n",
    "\n",
    "df = df_2017[['NO2','hour','station']].groupby([\"hour\"]).median().reset_index().sort_values(by='hour',ascending=False)\n",
    "ax[0, 1].set_title('NO2-By-Hour')\n",
    "sns.pointplot(ax= ax[0,1], x='hour', y='NO2', data=df,markers='o', color='red')\n",
    "\n",
    "df = df_2017[['CO','hour','station']].groupby([\"hour\"]).median().reset_index().sort_values(by='hour',ascending=False)\n",
    "ax[0, 2].set_title('CO-By-Hour')\n",
    "sns.pointplot(ax= ax[0,2],x='hour', y='CO', data=df,markers='o', color='olive')\n",
    "\n",
    "df = df_2017[['O3','hour','station']].groupby([\"hour\"]).median().reset_index().sort_values(by='hour',ascending=False)\n",
    "ax[1, 0].set_title('O3-By-Hour')\n",
    "sns.pointplot(ax=ax[1, 0], x='hour', y='O3', data=df,markers='o', color='green')\n",
    "\n",
    "df = df_2017[['PM2.5','hour','station']].groupby([\"hour\"]).median().reset_index().sort_values(by='hour',ascending=False)\n",
    "ax[1, 1].set_title('PM2.5-By-Hour')\n",
    "sns.pointplot(ax=ax[1, 1],x='hour', y='PM2.5', data=df,markers='o', color='yellow')\n",
    "\n",
    "df = df_2017[['PM10','hour','station']].groupby([\"hour\"]).median().reset_index().sort_values(by='hour',ascending=False)\n",
    "ax[1, 2].set_title('PM10-By-Hour')\n",
    "sns.pointplot(ax=ax[1,2], x='hour', y='PM10', data=df,markers='o', color='orange')\n",
    "\n",
    "fig.tight_layout()"
   ]
  },
  {
   "cell_type": "markdown",
   "metadata": {
    "id": "o6EHBJez3x51"
   },
   "source": [
    "**Interpretation:** <br/>\n",
    "\n",
    "From the above plots:<br/>\n",
    "The day of busines end hours (9:00 AM to 7:00 PM) we can easily find the Polutant gases contributing more to PM2.5"
   ]
  },
  {
   "cell_type": "markdown",
   "metadata": {},
   "source": [
    "### Analysis of Pollutants in day of the week"
   ]
  },
  {
   "cell_type": "code",
   "execution_count": 126,
   "metadata": {},
   "outputs": [
    {
     "data": {
      "text/html": [
       "<div>\n",
       "<style scoped>\n",
       "    .dataframe tbody tr th:only-of-type {\n",
       "        vertical-align: middle;\n",
       "    }\n",
       "\n",
       "    .dataframe tbody tr th {\n",
       "        vertical-align: top;\n",
       "    }\n",
       "\n",
       "    .dataframe thead th {\n",
       "        text-align: right;\n",
       "    }\n",
       "</style>\n",
       "<table border=\"1\" class=\"dataframe\">\n",
       "  <thead>\n",
       "    <tr style=\"text-align: right;\">\n",
       "      <th></th>\n",
       "      <th>year</th>\n",
       "      <th>month</th>\n",
       "      <th>day</th>\n",
       "      <th>hour</th>\n",
       "      <th>PM2.5</th>\n",
       "      <th>SO2</th>\n",
       "      <th>NO2</th>\n",
       "      <th>CO</th>\n",
       "      <th>O3</th>\n",
       "      <th>TEMP</th>\n",
       "      <th>PRES</th>\n",
       "      <th>DEWP</th>\n",
       "      <th>RAIN</th>\n",
       "      <th>WSPM</th>\n",
       "      <th>station</th>\n",
       "      <th>PM10</th>\n",
       "      <th>No</th>\n",
       "      <th>wd</th>\n",
       "    </tr>\n",
       "  </thead>\n",
       "  <tbody>\n",
       "    <tr>\n",
       "      <th>0</th>\n",
       "      <td>2013</td>\n",
       "      <td>Mar</td>\n",
       "      <td>1</td>\n",
       "      <td>0</td>\n",
       "      <td>4.000000</td>\n",
       "      <td>4.000000</td>\n",
       "      <td>7.000000</td>\n",
       "      <td>300.000000</td>\n",
       "      <td>77.000000</td>\n",
       "      <td>-0.700000</td>\n",
       "      <td>1023.000000</td>\n",
       "      <td>-18.800000</td>\n",
       "      <td>0.000000</td>\n",
       "      <td>4.400000</td>\n",
       "      <td>Aotizhongxin</td>\n",
       "      <td>91.000000</td>\n",
       "      <td>NaN</td>\n",
       "      <td>NaN</td>\n",
       "    </tr>\n",
       "    <tr>\n",
       "      <th>1</th>\n",
       "      <td>2013</td>\n",
       "      <td>Mar</td>\n",
       "      <td>1</td>\n",
       "      <td>1</td>\n",
       "      <td>8.000000</td>\n",
       "      <td>4.000000</td>\n",
       "      <td>7.000000</td>\n",
       "      <td>300.000000</td>\n",
       "      <td>77.000000</td>\n",
       "      <td>-1.100000</td>\n",
       "      <td>1023.200000</td>\n",
       "      <td>-18.200000</td>\n",
       "      <td>0.000000</td>\n",
       "      <td>4.700000</td>\n",
       "      <td>Aotizhongxin</td>\n",
       "      <td>91.000000</td>\n",
       "      <td>NaN</td>\n",
       "      <td>NaN</td>\n",
       "    </tr>\n",
       "    <tr>\n",
       "      <th>2</th>\n",
       "      <td>2013</td>\n",
       "      <td>Mar</td>\n",
       "      <td>1</td>\n",
       "      <td>2</td>\n",
       "      <td>7.000000</td>\n",
       "      <td>5.000000</td>\n",
       "      <td>10.000000</td>\n",
       "      <td>300.000000</td>\n",
       "      <td>73.000000</td>\n",
       "      <td>-1.100000</td>\n",
       "      <td>1023.500000</td>\n",
       "      <td>-18.200000</td>\n",
       "      <td>0.000000</td>\n",
       "      <td>5.600000</td>\n",
       "      <td>Aotizhongxin</td>\n",
       "      <td>91.000000</td>\n",
       "      <td>NaN</td>\n",
       "      <td>NaN</td>\n",
       "    </tr>\n",
       "    <tr>\n",
       "      <th>3</th>\n",
       "      <td>2013</td>\n",
       "      <td>Mar</td>\n",
       "      <td>1</td>\n",
       "      <td>3</td>\n",
       "      <td>6.000000</td>\n",
       "      <td>11.000000</td>\n",
       "      <td>11.000000</td>\n",
       "      <td>300.000000</td>\n",
       "      <td>72.000000</td>\n",
       "      <td>-1.400000</td>\n",
       "      <td>1024.500000</td>\n",
       "      <td>-19.400000</td>\n",
       "      <td>0.000000</td>\n",
       "      <td>3.100000</td>\n",
       "      <td>Aotizhongxin</td>\n",
       "      <td>91.000000</td>\n",
       "      <td>NaN</td>\n",
       "      <td>NaN</td>\n",
       "    </tr>\n",
       "    <tr>\n",
       "      <th>4</th>\n",
       "      <td>2013</td>\n",
       "      <td>Mar</td>\n",
       "      <td>1</td>\n",
       "      <td>4</td>\n",
       "      <td>3.000000</td>\n",
       "      <td>12.000000</td>\n",
       "      <td>12.000000</td>\n",
       "      <td>300.000000</td>\n",
       "      <td>72.000000</td>\n",
       "      <td>-2.000000</td>\n",
       "      <td>1025.200000</td>\n",
       "      <td>-19.500000</td>\n",
       "      <td>0.000000</td>\n",
       "      <td>2.000000</td>\n",
       "      <td>Aotizhongxin</td>\n",
       "      <td>91.000000</td>\n",
       "      <td>NaN</td>\n",
       "      <td>NaN</td>\n",
       "    </tr>\n",
       "  </tbody>\n",
       "</table>\n",
       "</div>"
      ],
      "text/plain": [
       "   year month  day  hour    PM2.5       SO2       NO2         CO        O3  \\\n",
       "0  2013   Mar    1     0 4.000000  4.000000  7.000000 300.000000 77.000000   \n",
       "1  2013   Mar    1     1 8.000000  4.000000  7.000000 300.000000 77.000000   \n",
       "2  2013   Mar    1     2 7.000000  5.000000 10.000000 300.000000 73.000000   \n",
       "3  2013   Mar    1     3 6.000000 11.000000 11.000000 300.000000 72.000000   \n",
       "4  2013   Mar    1     4 3.000000 12.000000 12.000000 300.000000 72.000000   \n",
       "\n",
       "       TEMP        PRES       DEWP     RAIN     WSPM       station      PM10  \\\n",
       "0 -0.700000 1023.000000 -18.800000 0.000000 4.400000  Aotizhongxin 91.000000   \n",
       "1 -1.100000 1023.200000 -18.200000 0.000000 4.700000  Aotizhongxin 91.000000   \n",
       "2 -1.100000 1023.500000 -18.200000 0.000000 5.600000  Aotizhongxin 91.000000   \n",
       "3 -1.400000 1024.500000 -19.400000 0.000000 3.100000  Aotizhongxin 91.000000   \n",
       "4 -2.000000 1025.200000 -19.500000 0.000000 2.000000  Aotizhongxin 91.000000   \n",
       "\n",
       "   No   wd  \n",
       "0 NaN  NaN  \n",
       "1 NaN  NaN  \n",
       "2 NaN  NaN  \n",
       "3 NaN  NaN  \n",
       "4 NaN  NaN  "
      ]
     },
     "execution_count": 126,
     "metadata": {},
     "output_type": "execute_result"
    }
   ],
   "source": [
    "df_AQI1.head()"
   ]
  },
  {
   "cell_type": "code",
   "execution_count": 125,
   "metadata": {},
   "outputs": [
    {
     "ename": "ValueError",
     "evalue": "Unable to parse string \"Jan\" at position 0",
     "output_type": "error",
     "traceback": [
      "\u001b[1;31m---------------------------------------------------------------------------\u001b[0m",
      "\u001b[1;31mValueError\u001b[0m                                Traceback (most recent call last)",
      "\u001b[1;32m~\\anaconda3\\lib\\site-packages\\pandas\\_libs\\lib.pyx\u001b[0m in \u001b[0;36mpandas._libs.lib.maybe_convert_numeric\u001b[1;34m()\u001b[0m\n",
      "\u001b[1;31mValueError\u001b[0m: Unable to parse string \"Jan\"",
      "\nDuring handling of the above exception, another exception occurred:\n",
      "\u001b[1;31mValueError\u001b[0m                                Traceback (most recent call last)",
      "\u001b[1;32m~\\AppData\\Local\\Temp/ipykernel_13720/4041455119.py\u001b[0m in \u001b[0;36m<module>\u001b[1;34m\u001b[0m\n\u001b[0;32m      1\u001b[0m \u001b[1;31m# creating date field for further analysis by extracting day of the week, month etc.\u001b[0m\u001b[1;33m\u001b[0m\u001b[1;33m\u001b[0m\u001b[0m\n\u001b[0;32m      2\u001b[0m \u001b[0mdf_2017\u001b[0m \u001b[1;33m=\u001b[0m \u001b[0mdf_AQI1\u001b[0m\u001b[1;33m[\u001b[0m\u001b[0mdf_AQI1\u001b[0m\u001b[1;33m[\u001b[0m\u001b[1;34m'year'\u001b[0m\u001b[1;33m]\u001b[0m\u001b[1;33m==\u001b[0m\u001b[1;36m2017\u001b[0m\u001b[1;33m]\u001b[0m\u001b[1;33m\u001b[0m\u001b[1;33m\u001b[0m\u001b[0m\n\u001b[1;32m----> 3\u001b[1;33m \u001b[0mdf_2017\u001b[0m\u001b[1;33m[\u001b[0m\u001b[1;34m'date'\u001b[0m\u001b[1;33m]\u001b[0m\u001b[1;33m=\u001b[0m\u001b[0mpd\u001b[0m\u001b[1;33m.\u001b[0m\u001b[0mto_datetime\u001b[0m\u001b[1;33m(\u001b[0m\u001b[0mdf_2017\u001b[0m\u001b[1;33m[\u001b[0m\u001b[1;33m[\u001b[0m\u001b[1;34m'year'\u001b[0m\u001b[1;33m,\u001b[0m \u001b[1;34m'month'\u001b[0m\u001b[1;33m,\u001b[0m \u001b[1;34m'day'\u001b[0m\u001b[1;33m]\u001b[0m\u001b[1;33m]\u001b[0m\u001b[1;33m)\u001b[0m\u001b[1;33m\u001b[0m\u001b[1;33m\u001b[0m\u001b[0m\n\u001b[0m",
      "\u001b[1;32m~\\anaconda3\\lib\\site-packages\\pandas\\core\\tools\\datetimes.py\u001b[0m in \u001b[0;36mto_datetime\u001b[1;34m(arg, errors, dayfirst, yearfirst, utc, format, exact, unit, infer_datetime_format, origin, cache)\u001b[0m\n\u001b[0;32m    888\u001b[0m             \u001b[0mresult\u001b[0m \u001b[1;33m=\u001b[0m \u001b[0marg\u001b[0m\u001b[1;33m.\u001b[0m\u001b[0m_constructor\u001b[0m\u001b[1;33m(\u001b[0m\u001b[0mvalues\u001b[0m\u001b[1;33m,\u001b[0m \u001b[0mindex\u001b[0m\u001b[1;33m=\u001b[0m\u001b[0marg\u001b[0m\u001b[1;33m.\u001b[0m\u001b[0mindex\u001b[0m\u001b[1;33m,\u001b[0m \u001b[0mname\u001b[0m\u001b[1;33m=\u001b[0m\u001b[0marg\u001b[0m\u001b[1;33m.\u001b[0m\u001b[0mname\u001b[0m\u001b[1;33m)\u001b[0m\u001b[1;33m\u001b[0m\u001b[1;33m\u001b[0m\u001b[0m\n\u001b[0;32m    889\u001b[0m     \u001b[1;32melif\u001b[0m \u001b[0misinstance\u001b[0m\u001b[1;33m(\u001b[0m\u001b[0marg\u001b[0m\u001b[1;33m,\u001b[0m \u001b[1;33m(\u001b[0m\u001b[0mABCDataFrame\u001b[0m\u001b[1;33m,\u001b[0m \u001b[0mabc\u001b[0m\u001b[1;33m.\u001b[0m\u001b[0mMutableMapping\u001b[0m\u001b[1;33m)\u001b[0m\u001b[1;33m)\u001b[0m\u001b[1;33m:\u001b[0m\u001b[1;33m\u001b[0m\u001b[1;33m\u001b[0m\u001b[0m\n\u001b[1;32m--> 890\u001b[1;33m         \u001b[0mresult\u001b[0m \u001b[1;33m=\u001b[0m \u001b[0m_assemble_from_unit_mappings\u001b[0m\u001b[1;33m(\u001b[0m\u001b[0marg\u001b[0m\u001b[1;33m,\u001b[0m \u001b[0merrors\u001b[0m\u001b[1;33m,\u001b[0m \u001b[0mtz\u001b[0m\u001b[1;33m)\u001b[0m\u001b[1;33m\u001b[0m\u001b[1;33m\u001b[0m\u001b[0m\n\u001b[0m\u001b[0;32m    891\u001b[0m     \u001b[1;32melif\u001b[0m \u001b[0misinstance\u001b[0m\u001b[1;33m(\u001b[0m\u001b[0marg\u001b[0m\u001b[1;33m,\u001b[0m \u001b[0mIndex\u001b[0m\u001b[1;33m)\u001b[0m\u001b[1;33m:\u001b[0m\u001b[1;33m\u001b[0m\u001b[1;33m\u001b[0m\u001b[0m\n\u001b[0;32m    892\u001b[0m         \u001b[0mcache_array\u001b[0m \u001b[1;33m=\u001b[0m \u001b[0m_maybe_cache\u001b[0m\u001b[1;33m(\u001b[0m\u001b[0marg\u001b[0m\u001b[1;33m,\u001b[0m \u001b[0mformat\u001b[0m\u001b[1;33m,\u001b[0m \u001b[0mcache\u001b[0m\u001b[1;33m,\u001b[0m \u001b[0mconvert_listlike\u001b[0m\u001b[1;33m)\u001b[0m\u001b[1;33m\u001b[0m\u001b[1;33m\u001b[0m\u001b[0m\n",
      "\u001b[1;32m~\\anaconda3\\lib\\site-packages\\pandas\\core\\tools\\datetimes.py\u001b[0m in \u001b[0;36m_assemble_from_unit_mappings\u001b[1;34m(arg, errors, tz)\u001b[0m\n\u001b[0;32m   1018\u001b[0m     values = (\n\u001b[0;32m   1019\u001b[0m         \u001b[0mcoerce\u001b[0m\u001b[1;33m(\u001b[0m\u001b[0marg\u001b[0m\u001b[1;33m[\u001b[0m\u001b[0munit_rev\u001b[0m\u001b[1;33m[\u001b[0m\u001b[1;34m\"year\"\u001b[0m\u001b[1;33m]\u001b[0m\u001b[1;33m]\u001b[0m\u001b[1;33m)\u001b[0m \u001b[1;33m*\u001b[0m \u001b[1;36m10000\u001b[0m\u001b[1;33m\u001b[0m\u001b[1;33m\u001b[0m\u001b[0m\n\u001b[1;32m-> 1020\u001b[1;33m         \u001b[1;33m+\u001b[0m \u001b[0mcoerce\u001b[0m\u001b[1;33m(\u001b[0m\u001b[0marg\u001b[0m\u001b[1;33m[\u001b[0m\u001b[0munit_rev\u001b[0m\u001b[1;33m[\u001b[0m\u001b[1;34m\"month\"\u001b[0m\u001b[1;33m]\u001b[0m\u001b[1;33m]\u001b[0m\u001b[1;33m)\u001b[0m \u001b[1;33m*\u001b[0m \u001b[1;36m100\u001b[0m\u001b[1;33m\u001b[0m\u001b[1;33m\u001b[0m\u001b[0m\n\u001b[0m\u001b[0;32m   1021\u001b[0m         \u001b[1;33m+\u001b[0m \u001b[0mcoerce\u001b[0m\u001b[1;33m(\u001b[0m\u001b[0marg\u001b[0m\u001b[1;33m[\u001b[0m\u001b[0munit_rev\u001b[0m\u001b[1;33m[\u001b[0m\u001b[1;34m\"day\"\u001b[0m\u001b[1;33m]\u001b[0m\u001b[1;33m]\u001b[0m\u001b[1;33m)\u001b[0m\u001b[1;33m\u001b[0m\u001b[1;33m\u001b[0m\u001b[0m\n\u001b[0;32m   1022\u001b[0m     )\n",
      "\u001b[1;32m~\\anaconda3\\lib\\site-packages\\pandas\\core\\tools\\datetimes.py\u001b[0m in \u001b[0;36mcoerce\u001b[1;34m(values)\u001b[0m\n\u001b[0;32m   1009\u001b[0m     \u001b[1;32mdef\u001b[0m \u001b[0mcoerce\u001b[0m\u001b[1;33m(\u001b[0m\u001b[0mvalues\u001b[0m\u001b[1;33m)\u001b[0m\u001b[1;33m:\u001b[0m\u001b[1;33m\u001b[0m\u001b[1;33m\u001b[0m\u001b[0m\n\u001b[0;32m   1010\u001b[0m         \u001b[1;31m# we allow coercion to if errors allows\u001b[0m\u001b[1;33m\u001b[0m\u001b[1;33m\u001b[0m\u001b[0m\n\u001b[1;32m-> 1011\u001b[1;33m         \u001b[0mvalues\u001b[0m \u001b[1;33m=\u001b[0m \u001b[0mto_numeric\u001b[0m\u001b[1;33m(\u001b[0m\u001b[0mvalues\u001b[0m\u001b[1;33m,\u001b[0m \u001b[0merrors\u001b[0m\u001b[1;33m=\u001b[0m\u001b[0merrors\u001b[0m\u001b[1;33m)\u001b[0m\u001b[1;33m\u001b[0m\u001b[1;33m\u001b[0m\u001b[0m\n\u001b[0m\u001b[0;32m   1012\u001b[0m \u001b[1;33m\u001b[0m\u001b[0m\n\u001b[0;32m   1013\u001b[0m         \u001b[1;31m# prevent overflow in case of int8 or int16\u001b[0m\u001b[1;33m\u001b[0m\u001b[1;33m\u001b[0m\u001b[0m\n",
      "\u001b[1;32m~\\anaconda3\\lib\\site-packages\\pandas\\core\\tools\\numeric.py\u001b[0m in \u001b[0;36mto_numeric\u001b[1;34m(arg, errors, downcast)\u001b[0m\n\u001b[0;32m    181\u001b[0m         \u001b[0mcoerce_numeric\u001b[0m \u001b[1;33m=\u001b[0m \u001b[0merrors\u001b[0m \u001b[1;32mnot\u001b[0m \u001b[1;32min\u001b[0m \u001b[1;33m(\u001b[0m\u001b[1;34m\"ignore\"\u001b[0m\u001b[1;33m,\u001b[0m \u001b[1;34m\"raise\"\u001b[0m\u001b[1;33m)\u001b[0m\u001b[1;33m\u001b[0m\u001b[1;33m\u001b[0m\u001b[0m\n\u001b[0;32m    182\u001b[0m         \u001b[1;32mtry\u001b[0m\u001b[1;33m:\u001b[0m\u001b[1;33m\u001b[0m\u001b[1;33m\u001b[0m\u001b[0m\n\u001b[1;32m--> 183\u001b[1;33m             values, _ = lib.maybe_convert_numeric(\n\u001b[0m\u001b[0;32m    184\u001b[0m                 \u001b[0mvalues\u001b[0m\u001b[1;33m,\u001b[0m \u001b[0mset\u001b[0m\u001b[1;33m(\u001b[0m\u001b[1;33m)\u001b[0m\u001b[1;33m,\u001b[0m \u001b[0mcoerce_numeric\u001b[0m\u001b[1;33m=\u001b[0m\u001b[0mcoerce_numeric\u001b[0m\u001b[1;33m\u001b[0m\u001b[1;33m\u001b[0m\u001b[0m\n\u001b[0;32m    185\u001b[0m             )\n",
      "\u001b[1;32m~\\anaconda3\\lib\\site-packages\\pandas\\_libs\\lib.pyx\u001b[0m in \u001b[0;36mpandas._libs.lib.maybe_convert_numeric\u001b[1;34m()\u001b[0m\n",
      "\u001b[1;31mValueError\u001b[0m: Unable to parse string \"Jan\" at position 0"
     ]
    }
   ],
   "source": [
    "# creating date field for further analysis by extracting day of the week, month etc.\n",
    "df_2017 = df_AQI1[df_AQI1['year']==2017]\n",
    "df_2017['date']=pd.to_datetime(df_2017[['year', 'month', 'day']])"
   ]
  },
  {
   "cell_type": "code",
   "execution_count": null,
   "metadata": {},
   "outputs": [],
   "source": [
    "# function to find day of the week based on the date field\n",
    "import calendar\n",
    "def findDay(date): \n",
    "    dayname = calendar.day_name[date.weekday()]\n",
    "    return dayname"
   ]
  },
  {
   "cell_type": "code",
   "execution_count": null,
   "metadata": {},
   "outputs": [],
   "source": [
    "df_2017['day_week'] = df_2017['date'].apply(lambda x: findDay(x))"
   ]
  },
  {
   "cell_type": "code",
   "execution_count": null,
   "metadata": {},
   "outputs": [],
   "source": [
    "custom_day = {'Monday':0, 'Tuesday':1,'Wednesday':2,'Thursday':3,'Friday':4,'Saturday':5,'Sunday':6}"
   ]
  },
  {
   "cell_type": "code",
   "execution_count": null,
   "metadata": {},
   "outputs": [],
   "source": [
    "df = df_2017[['SO2','day_week','station']].groupby([\"day_week\"]).median().reset_index().sort_values(by='day_week',ascending=True)\n",
    "df = df.iloc[df['day_week'].map(custom_day).argsort()]\n",
    "fig,ax=plt.subplots(2,3, figsize=(15,5))\n",
    "ax[0, 0].set_title('SO2-By-day_week')\n",
    "sns.pointplot(ax=ax[0,0],x='day_week', y='SO2',markers='o', data=df)\n",
    "\n",
    "df = df_2017[['NO2','day_week','station']].groupby([\"day_week\"]).median().reset_index().sort_values(by='day_week',ascending=True)\n",
    "df = df.iloc[df['day_week'].map(custom_day).argsort()]\n",
    "ax[0, 1].set_title('NO2-By-day_week')\n",
    "sns.pointplot(ax= ax[0,1], x='day_week', y='NO2', data=df,markers='o', color='red')\n",
    "\n",
    "df = df_2017[['CO','day_week','station']].groupby([\"day_week\"]).median().reset_index().sort_values(by='day_week',ascending=True)\n",
    "df = df.iloc[df['day_week'].map(custom_day).argsort()]\n",
    "ax[0, 2].set_title('CO-By-day_week')\n",
    "sns.pointplot(ax= ax[0,2],x='day_week', y='CO', data=df, color='olive')\n",
    "\n",
    "df = df_2017[['O3','day_week','station']].groupby([\"day_week\"]).median().reset_index().sort_values(by='day_week',ascending=True)\n",
    "df = df.iloc[df['day_week'].map(custom_day).argsort()]\n",
    "ax[1, 0].set_title('O3-By-day_week')\n",
    "sns.pointplot(ax=ax[1, 0], x='day_week', y='O3', data=df,markers='o', color='green')\n",
    "\n",
    "df = df_2017[['PM2.5','day_week','station']].groupby([\"day_week\"]).median().reset_index().sort_values(by='day_week',ascending=True)\n",
    "df = df.iloc[df['day_week'].map(custom_day).argsort()]\n",
    "ax[1, 1].set_title('PM2.5-By-day_week')\n",
    "sns.pointplot(ax=ax[1, 1],x='day_week', y='PM2.5', data=df,markers='o', color='yellow')\n",
    "\n",
    "df = df_2017[['PM10','day_week','station']].groupby([\"day_week\"]).median().reset_index().sort_values(by='day_week',ascending=True)\n",
    "df = df.iloc[df['day_week'].map(custom_day).argsort()]\n",
    "ax[1, 2].set_title('PM10-By-day_week')\n",
    "sns.pointplot(ax=ax[1,2], x='day_week', y='PM10', data=df, markers='o', color='orange')\n",
    "\n",
    "fig.tight_layout()"
   ]
  },
  {
   "cell_type": "markdown",
   "metadata": {},
   "source": [
    "**Interpretation:** <br/>\n",
    "\n",
    "From the above plots:<br/>\n",
    "During week days Co, NO2, SO2 Polutant gases contributing more to PM2.5"
   ]
  },
  {
   "cell_type": "markdown",
   "metadata": {},
   "source": [
    "### Analysis of Pollutants month wise wrt to station"
   ]
  },
  {
   "cell_type": "code",
   "execution_count": null,
   "metadata": {
    "id": "E5wxUHn23x57"
   },
   "outputs": [],
   "source": [
    "df_mon = df_AQI.copy()\n",
    "#converting month values to month name for better understanding\n",
    "df_mon.month.replace([1,2,3,4,5,6,7,8,9,10,11,12], ['Jan', 'Feb','Mar','Apr','May','Jun','Jul','Aug','Sep','Oct','Nov','Dec'], inplace=True)"
   ]
  },
  {
   "cell_type": "code",
   "execution_count": null,
   "metadata": {
    "id": "s1Jj__xd3x57"
   },
   "outputs": [],
   "source": [
    "#Assign the year to numeric number\n",
    "custom_dict = {'Jan':0, 'Feb':1,'Mar':2,'Apr':3,'May':4,'Jun':5,'Jul':6,'Aug':7,'Sep':8,'Oct':9,'Nov':10,'Dec':11}"
   ]
  },
  {
   "cell_type": "code",
   "execution_count": null,
   "metadata": {
    "colab": {
     "base_uri": "https://localhost:8080/",
     "height": 507
    },
    "id": "S-jSIKDW3x57",
    "outputId": "6e235c36-9dda-45d9-e799-ec2b44d21c92"
   },
   "outputs": [],
   "source": [
    "df = df_mon[['SO2','month','station']].groupby([\"month\"]).median().reset_index().sort_values(by='month',ascending=True)\n",
    "df = df.iloc[df['month'].map(custom_dict).argsort()]\n",
    "fig,ax=plt.subplots(2,3, figsize=(15,5))\n",
    "ax[0, 0].set_title('SO2-By-month')\n",
    "sns.pointplot(ax= ax[0,0], x='month', y='SO2', data=df)\n",
    "\n",
    "df = df_mon[['NO2','month','station']].groupby([\"month\"]).median().reset_index().sort_values(by='month',ascending=True)\n",
    "ax[0, 1].set_title('NO2-By-month')\n",
    "sns.pointplot(ax= ax[0,1], x='month', y='NO2', data=df,markers='o', color='red')\n",
    "\n",
    "df = df_mon[['CO','month','station']].groupby([\"month\"]).median().reset_index().sort_values(by='month',ascending=True)\n",
    "ax[0, 2].set_title('CO-By-month')\n",
    "sns.pointplot(ax= ax[0,2],x='month', y='CO', data=df,markers='o', color='olive')\n",
    "\n",
    "df = df_mon[['O3','month','station']].groupby([\"month\"]).median().reset_index().sort_values(by='month',ascending=True)\n",
    "ax[1, 0].set_title('O3-By-month')\n",
    "sns.pointplot(ax=ax[1, 0], x='month', y='O3', data=df,markers='o', color='green')\n",
    "\n",
    "df = df_mon[['PM2.5','month','station']].groupby([\"month\"]).median().reset_index().sort_values(by='month',ascending=True)\n",
    "ax[1, 1].set_title('PM2.5-By-month')\n",
    "sns.pointplot(ax=ax[1, 1],x='month', y='PM2.5', data=df,markers='o', color='yellow')\n",
    "\n",
    "df = df_mon[['PM10','month','station']].groupby([\"month\"]).median().reset_index().sort_values(by='month',ascending=True)\n",
    "ax[1, 2].set_title('PM10-By-month')\n",
    "sns.pointplot(ax=ax[1,2], x='month', y='PM10', data=df,markers='o', color='orange')\n",
    "\n",
    "fig.tight_layout()"
   ]
  },
  {
   "cell_type": "markdown",
   "metadata": {
    "id": "sbhjIDLi3x59"
   },
   "source": [
    "<h1> 5. Model Building and Analysis</h1>"
   ]
  },
  {
   "cell_type": "markdown",
   "metadata": {},
   "source": [
    "### Using Linear Regression"
   ]
  },
  {
   "cell_type": "code",
   "execution_count": null,
   "metadata": {
    "colab": {
     "base_uri": "https://localhost:8080/",
     "height": 81
    },
    "id": "_kAXe6SM3x5-",
    "outputId": "a69d74c4-c6f6-439a-83bc-d10d271eef8a"
   },
   "outputs": [],
   "source": [
    "df_AQI = df_AQI.drop(['PM10'], axis=1)\n",
    "df_AQI.head(1)"
   ]
  },
  {
   "cell_type": "code",
   "execution_count": null,
   "metadata": {
    "colab": {
     "base_uri": "https://localhost:8080/",
     "height": 81
    },
    "id": "MPbFhYmy3x5-",
    "outputId": "dcb9f965-da1e-431d-f878-91a8dd6ed7f8"
   },
   "outputs": [],
   "source": [
    "#Keep original Dat frame after data cleaning and the imputing null value.\n",
    "#copy the data frame for Model building analysis\n",
    "df_md1 = df_AQI.copy()\n",
    "df_md1.head(1)"
   ]
  },
  {
   "cell_type": "markdown",
   "metadata": {
    "id": "afcf2xjb3x5-"
   },
   "source": [
    "<a id=\"types\"></a>\n",
    "#### Types of Transformations ##### Split the data into training and test sets."
   ]
  },
  {
   "cell_type": "code",
   "execution_count": null,
   "metadata": {
    "colab": {
     "base_uri": "https://localhost:8080/"
    },
    "id": "ONVM5QDB3x5-",
    "outputId": "09aaed6a-d361-45ee-fe65-361011996005"
   },
   "outputs": [],
   "source": [
    "#Add constant in to the data frame for the intercept -NA\n",
    "# df = sm.add_constant(df)\n",
    "# SPlit data n\n",
    "df_md1 = df_AQI.copy()\n",
    "X= df_md1.drop(['PM2.5','station','year'], axis=1)\n",
    "X= sm.add_constant(X)\n",
    "Y =df_md1['PM2.5']\n",
    "\n",
    "X_train , X_test, y_train,y_test = train_test_split( X, Y, test_size = 0.2)\n",
    "\n",
    "print(X_train.shape , X_test.shape, y_train.shape,y_test.shape)"
   ]
  },
  {
   "cell_type": "markdown",
   "metadata": {},
   "source": [
    "### Linear Regression"
   ]
  },
  {
   "cell_type": "code",
   "execution_count": null,
   "metadata": {},
   "outputs": [],
   "source": [
    "from sklearn.linear_model import LinearRegression\n",
    "model = LinearRegression()\n",
    "cv = RepeatedKFold(n_splits=3, n_repeats=3, random_state=3)\n",
    "reg_cv_score = cross_val_score(model, X,Y, cv=cv)\n",
    "reg_cv_mse = cross_val_score(model, X,Y, cv=cv,scoring='neg_mean_squared_error')\n",
    "R2 = np.mean(reg_cv_score)\n",
    "RMSE = np.sqrt(np.abs(np.mean(reg_cv_mse)))\n",
    "print('R2 :',R2)\n",
    "print('RMSE :',RMSE)"
   ]
  },
  {
   "cell_type": "code",
   "execution_count": null,
   "metadata": {},
   "outputs": [],
   "source": [
    "cv_summary_1_2 = pd.DataFrame({'CV Name':['LINEAR REGRESSION'],'R-Square':[R2],'RMSE':[RMSE]})\n",
    "cv_summary_1_2"
   ]
  },
  {
   "cell_type": "markdown",
   "metadata": {},
   "source": [
    "### save Model to file"
   ]
  },
  {
   "cell_type": "code",
   "execution_count": null,
   "metadata": {},
   "outputs": [],
   "source": [
    "import pickle\n",
    "filename = 'LR_Beijing_model.sav'\n",
    "pickle.dump(model, open(filename, 'wb'))"
   ]
  },
  {
   "cell_type": "markdown",
   "metadata": {
    "id": "eFC-Zw5I3x6w"
   },
   "source": [
    "<h1> 6. Save Dataframe to sqlite3 database </h1>"
   ]
  },
  {
   "cell_type": "code",
   "execution_count": 94,
   "metadata": {
    "id": "hCg7k66c3x6w",
    "tags": []
   },
   "outputs": [],
   "source": [
    "conn = sqlite3.connect('df_AQIs')\n",
    "c = conn.cursor()"
   ]
  },
  {
   "cell_type": "code",
   "execution_count": 95,
   "metadata": {
    "id": "_FRYeDIc3x6w"
   },
   "outputs": [],
   "source": [
    "c.execute('''DROP TABLE IF EXISTS data''')\n",
    "c.execute('''CREATE TABLE data (No, year, month, day, hour, 'PM2.5', PM10, SO2, NO2, CO, O3, TEMP, PRES, DEWP, RAIN, wd, WSPM, station)''')\n",
    "conn.commit()"
   ]
  },
  {
   "cell_type": "code",
   "execution_count": 96,
   "metadata": {
    "id": "mH5doiRl3x6x"
   },
   "outputs": [],
   "source": [
    "df_AQI.to_sql('data', conn, if_exists='replace', index = False)"
   ]
  },
  {
   "cell_type": "code",
   "execution_count": 97,
   "metadata": {
    "colab": {
     "base_uri": "https://localhost:8080/",
     "height": 300
    },
    "id": "TuqwKUHr3x6x",
    "outputId": "65d300a1-c211-4c90-e898-00c1027ad17a"
   },
   "outputs": [
    {
     "data": {
      "text/html": [
       "<div>\n",
       "<style scoped>\n",
       "    .dataframe tbody tr th:only-of-type {\n",
       "        vertical-align: middle;\n",
       "    }\n",
       "\n",
       "    .dataframe tbody tr th {\n",
       "        vertical-align: top;\n",
       "    }\n",
       "\n",
       "    .dataframe thead th {\n",
       "        text-align: right;\n",
       "    }\n",
       "</style>\n",
       "<table border=\"1\" class=\"dataframe\">\n",
       "  <thead>\n",
       "    <tr style=\"text-align: right;\">\n",
       "      <th></th>\n",
       "      <th>year</th>\n",
       "      <th>day</th>\n",
       "      <th>hour</th>\n",
       "      <th>PM2.5</th>\n",
       "      <th>SO2</th>\n",
       "      <th>NO2</th>\n",
       "      <th>CO</th>\n",
       "      <th>O3</th>\n",
       "      <th>TEMP</th>\n",
       "      <th>PRES</th>\n",
       "      <th>DEWP</th>\n",
       "      <th>RAIN</th>\n",
       "      <th>WSPM</th>\n",
       "      <th>PM10</th>\n",
       "    </tr>\n",
       "  </thead>\n",
       "  <tbody>\n",
       "    <tr>\n",
       "      <th>count</th>\n",
       "      <td>455832.000000</td>\n",
       "      <td>455832.000000</td>\n",
       "      <td>455832.000000</td>\n",
       "      <td>455832.000000</td>\n",
       "      <td>455832.000000</td>\n",
       "      <td>455832.000000</td>\n",
       "      <td>455832.000000</td>\n",
       "      <td>455832.000000</td>\n",
       "      <td>455832.000000</td>\n",
       "      <td>455832.000000</td>\n",
       "      <td>455832.000000</td>\n",
       "      <td>455832.000000</td>\n",
       "      <td>455832.000000</td>\n",
       "      <td>455832.000000</td>\n",
       "    </tr>\n",
       "    <tr>\n",
       "      <th>mean</th>\n",
       "      <td>2014.662560</td>\n",
       "      <td>15.729637</td>\n",
       "      <td>11.500000</td>\n",
       "      <td>79.674619</td>\n",
       "      <td>15.742543</td>\n",
       "      <td>51.007334</td>\n",
       "      <td>1225.147361</td>\n",
       "      <td>56.897473</td>\n",
       "      <td>13.558729</td>\n",
       "      <td>1010.805469</td>\n",
       "      <td>2.507477</td>\n",
       "      <td>0.064406</td>\n",
       "      <td>1.730671</td>\n",
       "      <td>92.610039</td>\n",
       "    </tr>\n",
       "    <tr>\n",
       "      <th>std</th>\n",
       "      <td>1.177198</td>\n",
       "      <td>8.800102</td>\n",
       "      <td>6.922194</td>\n",
       "      <td>80.477443</td>\n",
       "      <td>21.643531</td>\n",
       "      <td>34.704806</td>\n",
       "      <td>1139.679908</td>\n",
       "      <td>55.836262</td>\n",
       "      <td>11.427204</td>\n",
       "      <td>10.478779</td>\n",
       "      <td>13.780687</td>\n",
       "      <td>0.818814</td>\n",
       "      <td>1.242937</td>\n",
       "      <td>27.460789</td>\n",
       "    </tr>\n",
       "    <tr>\n",
       "      <th>min</th>\n",
       "      <td>2013.000000</td>\n",
       "      <td>1.000000</td>\n",
       "      <td>0.000000</td>\n",
       "      <td>2.000000</td>\n",
       "      <td>0.285600</td>\n",
       "      <td>1.026500</td>\n",
       "      <td>100.000000</td>\n",
       "      <td>0.214200</td>\n",
       "      <td>-19.900000</td>\n",
       "      <td>982.400000</td>\n",
       "      <td>-43.400000</td>\n",
       "      <td>0.000000</td>\n",
       "      <td>0.000000</td>\n",
       "      <td>2.000000</td>\n",
       "    </tr>\n",
       "    <tr>\n",
       "      <th>25%</th>\n",
       "      <td>2014.000000</td>\n",
       "      <td>8.000000</td>\n",
       "      <td>5.750000</td>\n",
       "      <td>21.000000</td>\n",
       "      <td>3.000000</td>\n",
       "      <td>24.000000</td>\n",
       "      <td>500.000000</td>\n",
       "      <td>11.000000</td>\n",
       "      <td>3.200000</td>\n",
       "      <td>1002.300000</td>\n",
       "      <td>-8.900000</td>\n",
       "      <td>0.000000</td>\n",
       "      <td>0.900000</td>\n",
       "      <td>91.000000</td>\n",
       "    </tr>\n",
       "    <tr>\n",
       "      <th>50%</th>\n",
       "      <td>2015.000000</td>\n",
       "      <td>16.000000</td>\n",
       "      <td>11.500000</td>\n",
       "      <td>55.000000</td>\n",
       "      <td>7.000000</td>\n",
       "      <td>45.000000</td>\n",
       "      <td>900.000000</td>\n",
       "      <td>45.000000</td>\n",
       "      <td>14.500000</td>\n",
       "      <td>1010.400000</td>\n",
       "      <td>3.000000</td>\n",
       "      <td>0.000000</td>\n",
       "      <td>1.400000</td>\n",
       "      <td>91.000000</td>\n",
       "    </tr>\n",
       "    <tr>\n",
       "      <th>75%</th>\n",
       "      <td>2016.000000</td>\n",
       "      <td>23.000000</td>\n",
       "      <td>17.250000</td>\n",
       "      <td>110.000000</td>\n",
       "      <td>19.000000</td>\n",
       "      <td>71.000000</td>\n",
       "      <td>1500.000000</td>\n",
       "      <td>80.000000</td>\n",
       "      <td>23.300000</td>\n",
       "      <td>1019.000000</td>\n",
       "      <td>15.100000</td>\n",
       "      <td>0.000000</td>\n",
       "      <td>2.200000</td>\n",
       "      <td>91.000000</td>\n",
       "    </tr>\n",
       "    <tr>\n",
       "      <th>max</th>\n",
       "      <td>2017.000000</td>\n",
       "      <td>31.000000</td>\n",
       "      <td>23.000000</td>\n",
       "      <td>999.000000</td>\n",
       "      <td>500.000000</td>\n",
       "      <td>290.000000</td>\n",
       "      <td>10000.000000</td>\n",
       "      <td>1071.000000</td>\n",
       "      <td>41.600000</td>\n",
       "      <td>1042.800000</td>\n",
       "      <td>29.100000</td>\n",
       "      <td>72.500000</td>\n",
       "      <td>13.200000</td>\n",
       "      <td>961.000000</td>\n",
       "    </tr>\n",
       "  </tbody>\n",
       "</table>\n",
       "</div>"
      ],
      "text/plain": [
       "               year           day          hour         PM2.5           SO2  \\\n",
       "count 455832.000000 455832.000000 455832.000000 455832.000000 455832.000000   \n",
       "mean    2014.662560     15.729637     11.500000     79.674619     15.742543   \n",
       "std        1.177198      8.800102      6.922194     80.477443     21.643531   \n",
       "min     2013.000000      1.000000      0.000000      2.000000      0.285600   \n",
       "25%     2014.000000      8.000000      5.750000     21.000000      3.000000   \n",
       "50%     2015.000000     16.000000     11.500000     55.000000      7.000000   \n",
       "75%     2016.000000     23.000000     17.250000    110.000000     19.000000   \n",
       "max     2017.000000     31.000000     23.000000    999.000000    500.000000   \n",
       "\n",
       "                NO2            CO            O3          TEMP          PRES  \\\n",
       "count 455832.000000 455832.000000 455832.000000 455832.000000 455832.000000   \n",
       "mean      51.007334   1225.147361     56.897473     13.558729   1010.805469   \n",
       "std       34.704806   1139.679908     55.836262     11.427204     10.478779   \n",
       "min        1.026500    100.000000      0.214200    -19.900000    982.400000   \n",
       "25%       24.000000    500.000000     11.000000      3.200000   1002.300000   \n",
       "50%       45.000000    900.000000     45.000000     14.500000   1010.400000   \n",
       "75%       71.000000   1500.000000     80.000000     23.300000   1019.000000   \n",
       "max      290.000000  10000.000000   1071.000000     41.600000   1042.800000   \n",
       "\n",
       "               DEWP          RAIN          WSPM          PM10  \n",
       "count 455832.000000 455832.000000 455832.000000 455832.000000  \n",
       "mean       2.507477      0.064406      1.730671     92.610039  \n",
       "std       13.780687      0.818814      1.242937     27.460789  \n",
       "min      -43.400000      0.000000      0.000000      2.000000  \n",
       "25%       -8.900000      0.000000      0.900000     91.000000  \n",
       "50%        3.000000      0.000000      1.400000     91.000000  \n",
       "75%       15.100000      0.000000      2.200000     91.000000  \n",
       "max       29.100000     72.500000     13.200000    961.000000  "
      ]
     },
     "execution_count": 97,
     "metadata": {},
     "output_type": "execute_result"
    }
   ],
   "source": [
    "pd.read_sql('''SELECT * FROM data''',conn).describe()"
   ]
  },
  {
   "cell_type": "code",
   "execution_count": 98,
   "metadata": {
    "colab": {
     "base_uri": "https://localhost:8080/",
     "height": 206
    },
    "id": "TlMcFTcm3x6x",
    "outputId": "19a8c88d-43c1-417c-e89a-f0d7c1cf23a4"
   },
   "outputs": [
    {
     "data": {
      "text/html": [
       "<div>\n",
       "<style scoped>\n",
       "    .dataframe tbody tr th:only-of-type {\n",
       "        vertical-align: middle;\n",
       "    }\n",
       "\n",
       "    .dataframe tbody tr th {\n",
       "        vertical-align: top;\n",
       "    }\n",
       "\n",
       "    .dataframe thead th {\n",
       "        text-align: right;\n",
       "    }\n",
       "</style>\n",
       "<table border=\"1\" class=\"dataframe\">\n",
       "  <thead>\n",
       "    <tr style=\"text-align: right;\">\n",
       "      <th></th>\n",
       "      <th>year</th>\n",
       "      <th>month</th>\n",
       "      <th>day</th>\n",
       "      <th>hour</th>\n",
       "      <th>PM2.5</th>\n",
       "      <th>SO2</th>\n",
       "      <th>NO2</th>\n",
       "      <th>CO</th>\n",
       "      <th>O3</th>\n",
       "      <th>TEMP</th>\n",
       "      <th>PRES</th>\n",
       "      <th>DEWP</th>\n",
       "      <th>RAIN</th>\n",
       "      <th>WSPM</th>\n",
       "      <th>station</th>\n",
       "      <th>PM10</th>\n",
       "    </tr>\n",
       "  </thead>\n",
       "  <tbody>\n",
       "    <tr>\n",
       "      <th>0</th>\n",
       "      <td>2013</td>\n",
       "      <td>Mar</td>\n",
       "      <td>1</td>\n",
       "      <td>0</td>\n",
       "      <td>4.000000</td>\n",
       "      <td>4.000000</td>\n",
       "      <td>7.000000</td>\n",
       "      <td>300.000000</td>\n",
       "      <td>77.000000</td>\n",
       "      <td>-0.700000</td>\n",
       "      <td>1023.000000</td>\n",
       "      <td>-18.800000</td>\n",
       "      <td>0.000000</td>\n",
       "      <td>4.400000</td>\n",
       "      <td>Aotizhongxin</td>\n",
       "      <td>91.000000</td>\n",
       "    </tr>\n",
       "    <tr>\n",
       "      <th>1</th>\n",
       "      <td>2013</td>\n",
       "      <td>Mar</td>\n",
       "      <td>1</td>\n",
       "      <td>1</td>\n",
       "      <td>8.000000</td>\n",
       "      <td>4.000000</td>\n",
       "      <td>7.000000</td>\n",
       "      <td>300.000000</td>\n",
       "      <td>77.000000</td>\n",
       "      <td>-1.100000</td>\n",
       "      <td>1023.200000</td>\n",
       "      <td>-18.200000</td>\n",
       "      <td>0.000000</td>\n",
       "      <td>4.700000</td>\n",
       "      <td>Aotizhongxin</td>\n",
       "      <td>91.000000</td>\n",
       "    </tr>\n",
       "    <tr>\n",
       "      <th>2</th>\n",
       "      <td>2013</td>\n",
       "      <td>Mar</td>\n",
       "      <td>1</td>\n",
       "      <td>2</td>\n",
       "      <td>7.000000</td>\n",
       "      <td>5.000000</td>\n",
       "      <td>10.000000</td>\n",
       "      <td>300.000000</td>\n",
       "      <td>73.000000</td>\n",
       "      <td>-1.100000</td>\n",
       "      <td>1023.500000</td>\n",
       "      <td>-18.200000</td>\n",
       "      <td>0.000000</td>\n",
       "      <td>5.600000</td>\n",
       "      <td>Aotizhongxin</td>\n",
       "      <td>91.000000</td>\n",
       "    </tr>\n",
       "    <tr>\n",
       "      <th>3</th>\n",
       "      <td>2013</td>\n",
       "      <td>Mar</td>\n",
       "      <td>1</td>\n",
       "      <td>3</td>\n",
       "      <td>6.000000</td>\n",
       "      <td>11.000000</td>\n",
       "      <td>11.000000</td>\n",
       "      <td>300.000000</td>\n",
       "      <td>72.000000</td>\n",
       "      <td>-1.400000</td>\n",
       "      <td>1024.500000</td>\n",
       "      <td>-19.400000</td>\n",
       "      <td>0.000000</td>\n",
       "      <td>3.100000</td>\n",
       "      <td>Aotizhongxin</td>\n",
       "      <td>91.000000</td>\n",
       "    </tr>\n",
       "    <tr>\n",
       "      <th>4</th>\n",
       "      <td>2013</td>\n",
       "      <td>Mar</td>\n",
       "      <td>1</td>\n",
       "      <td>4</td>\n",
       "      <td>3.000000</td>\n",
       "      <td>12.000000</td>\n",
       "      <td>12.000000</td>\n",
       "      <td>300.000000</td>\n",
       "      <td>72.000000</td>\n",
       "      <td>-2.000000</td>\n",
       "      <td>1025.200000</td>\n",
       "      <td>-19.500000</td>\n",
       "      <td>0.000000</td>\n",
       "      <td>2.000000</td>\n",
       "      <td>Aotizhongxin</td>\n",
       "      <td>91.000000</td>\n",
       "    </tr>\n",
       "  </tbody>\n",
       "</table>\n",
       "</div>"
      ],
      "text/plain": [
       "   year month  day  hour    PM2.5       SO2       NO2         CO        O3  \\\n",
       "0  2013   Mar    1     0 4.000000  4.000000  7.000000 300.000000 77.000000   \n",
       "1  2013   Mar    1     1 8.000000  4.000000  7.000000 300.000000 77.000000   \n",
       "2  2013   Mar    1     2 7.000000  5.000000 10.000000 300.000000 73.000000   \n",
       "3  2013   Mar    1     3 6.000000 11.000000 11.000000 300.000000 72.000000   \n",
       "4  2013   Mar    1     4 3.000000 12.000000 12.000000 300.000000 72.000000   \n",
       "\n",
       "       TEMP        PRES       DEWP     RAIN     WSPM       station      PM10  \n",
       "0 -0.700000 1023.000000 -18.800000 0.000000 4.400000  Aotizhongxin 91.000000  \n",
       "1 -1.100000 1023.200000 -18.200000 0.000000 4.700000  Aotizhongxin 91.000000  \n",
       "2 -1.100000 1023.500000 -18.200000 0.000000 5.600000  Aotizhongxin 91.000000  \n",
       "3 -1.400000 1024.500000 -19.400000 0.000000 3.100000  Aotizhongxin 91.000000  \n",
       "4 -2.000000 1025.200000 -19.500000 0.000000 2.000000  Aotizhongxin 91.000000  "
      ]
     },
     "execution_count": 98,
     "metadata": {},
     "output_type": "execute_result"
    }
   ],
   "source": [
    "pd.read_sql('''SELECT * FROM data''',conn).head()"
   ]
  },
  {
   "cell_type": "markdown",
   "metadata": {},
   "source": [
    "<h1> 7. Create Dashboard using Plotly Dash </h1>"
   ]
  },
  {
   "cell_type": "code",
   "execution_count": 103,
   "metadata": {},
   "outputs": [],
   "source": [
    "#!pip install dash\n",
    "#!pip install jupyter-dash\n",
    "import dash\n",
    "from jupyter_dash import JupyterDash\n",
    "import plotly.express as px  # (version 4.7.0 or higher)\n",
    "import plotly.graph_objects as go\n",
    "from dash import Dash, dcc, html, Input, Output  # pip install dash (version 2.0.0 or higher)"
   ]
  },
  {
   "cell_type": "code",
   "execution_count": null,
   "metadata": {},
   "outputs": [],
   "source": [
    "# df = px.data.gapminder()\n",
    "df = pd.read_sql('''SELECT * FROM data''',conn)\n",
    "df_year = df.groupby(['year']).mean()\n",
    "df_month = df.groupby(['month']).mean()\n",
    "df_day = df.groupby(['day']).mean()\n",
    "df_hour = df.groupby(['hour']).mean()\n",
    "df_station = df.groupby(['station']).mean()\n",
    "\n",
    "df.reset_index(inplace=True)\n",
    "print(df_year[:15])\n",
    "print(df_month[:15])\n",
    "print(df_day[:15])\n",
    "print(df_hour[:15])\n",
    "print(df_station[:15])\n",
    "\n",
    "df.reset_index(inplace=True)\n",
    "print(df[:5])\n",
    "#df = df_AQI\n",
    "year_options = [dict(label=x, value=x) for x in df['year'].unique()]\n",
    "month_options = [dict(label=x, value=x) for x in df['month'].unique()]\n",
    "day_options = [dict(label=x, value=x) for x in df['day'].unique()]\n",
    "hour_options = [dict(label=x, value=x) for x in df['hour'].unique()]\n",
    "station_options = [dict(label=x, value=x) for x in df['station'].unique()]\n",
    "\n",
    "app = JupyterDash(__name__)\n",
    "\n",
    "\n",
    "# # -- Import and clean data (importing csv into pandas)\n",
    "# # df = pd.read_csv(\"intro_bees.csv\")\n",
    "# df = pd.read_sql('''SELECT * FROM data''',conn)\n",
    "\n",
    "# df = df.groupby(['year', 'PM2.5', 'SO2', 'NO2'])[['station']].mean()\n",
    "# df.reset_index(inplace=True)\n",
    "# print(df[:5])\n",
    "\n",
    "\n",
    "# ------------------------------------------------------------------------------\n",
    "# App layout\n",
    "app.layout = html.Div(children = [\n",
    "    html.H1(\"Beijing Air Quality index\", style={'text-align': 'center'}),\n",
    "    dcc.Dropdown(id=\"year\",\n",
    "                 options=year_options,\n",
    "                 multi=True,\n",
    "                 value=2017,\n",
    "                 style={'width': \"40%\"}\n",
    "                 ),\n",
    "    dcc.Dropdown(id=\"month\",\n",
    "                 options=month_options,\n",
    "                 multi=True,\n",
    "                 value=Jan,\n",
    "                 style={'width': \"40%\"}\n",
    "                 ),\n",
    "    dcc.Dropdown(id=\"day\",\n",
    "                 options=day_options,\n",
    "                 multi=True,\n",
    "                 value=1,\n",
    "                 style={'width': \"40%\"}\n",
    "                 ),\n",
    "    dcc.Dropdown(id=\"hour\",\n",
    "                 options=hour_options,\n",
    "                 multi=True,\n",
    "                 value=0,\n",
    "                 style={'width': \"40%\"}\n",
    "                 ),\n",
    "    dcc.Dropdown(id=\"station\",\n",
    "                 options=station_options,\n",
    "                 multi=True,\n",
    "                 value=Aotizhongxin,\n",
    "                 style={'width': \"40%\"}\n",
    "                 ),\n",
    "    dcc.Graph(id=\"graph1\", figure={}),\n",
    "    dcc.Graph(id=\"graph2\", figure={}),\n",
    "    dcc.Graph(id=\"graph3\", figure={})\n",
    "])\n",
    "\n",
    "    \n",
    "#     html.Div(id='output_container', children=[]),\n",
    "#     html.Br(),\n",
    "\n",
    "    \n",
    "#     dcc.Graph(id='my_bee_map', figure={})])\n",
    "\n",
    "\n",
    "# ------------------------------------------------------------------------------\n",
    "# Connect the Plotly graphs with Dash Components\n",
    "@app.callback(Output(component_id='graph1', component_property='figure'),\n",
    "              [Input(component_id='year', component_property='value')])\n",
    "     \n",
    "def egraph(year):\n",
    "     year = year if year else 2017\n",
    "     df_year = df.query(\"year == @year\")\n",
    "     return px.bar (df_year, x=\"PM2.5\", y=\"SO2\", log_x=False, color=\"station\", barmode=\"group\", \n",
    "                        title=\"f'Plot of {x} vs {y} for {year}\")\n",
    "    \n",
    "@app.callback(Output(component_id='graph2', component_property='figure'),\n",
    "              [Input(component_id='month', component_property='value')])\n",
    "     \n",
    "def egraph(year):\n",
    "     year = year if year else 2017\n",
    "     df_month = df.query(\"month == @month\")\n",
    "     return px.scatter (df_year, x=\"PM2.5\", y=\"CO\", log_x=False, color=\"station\")\n",
    "    \n",
    "@app.callback(Output(component_id='graph3', component_property='figure'),\n",
    "              [Input(component_id='year', component_property='value')])\n",
    "     \n",
    "def egraph(year):\n",
    "     year = year if year else 2017\n",
    "     df_year = df.query(\"year == @year\")\n",
    "     return px.bar (df_year, x=\"PM2.5\", y=\"NO2\", log_x=False, color=\"station\")\n",
    "\n",
    "app.run_server(mode=\"jupyterlab\")\n",
    "  \n",
    "#     container = \"The year chosen by user was: {}\".format(option_slctd)\n",
    "\n",
    "    \n",
    "#     dff = df.copy()\n",
    "#     dff = dff[dff[\"Year\"] == option_slctd]\n",
    "#     dff = dff[dff[\"Affected by\"] == \"Varroa_mites\"]\n",
    "\n",
    "    \n",
    "#     # Plotly Express\n",
    "#     fig = px.choropleth(\n",
    "#         data_frame=dff,\n",
    "#         locationmode='USA-states',\n",
    "#         locations='state_code',\n",
    "#         scope=\"usa\",\n",
    "#         color='Pct of Colonies Impacted',\n",
    "#         hover_data=['State', 'Pct of Colonies Impacted'],\n",
    "#         color_continuous_scale=px.colors.sequential.YlOrRd,\n",
    "#         labels={'Pct of Colonies Impacted': '% of Bee Colonies'},\n",
    "#         template='plotly_dark'\n",
    "#     )\n",
    "\n",
    "    \n",
    "    # Plotly Graph Objects (GO)\n",
    "    # fig = go.Figure(\n",
    "    #     data=[go.Choropleth(\n",
    "    #         locationmode='USA-states',\n",
    "    #         locations=dff['state_code'],\n",
    "    #         z=dff[\"Pct of Colonies Impacted\"].astype(float),\n",
    "    #         colorscale='Reds',\n",
    "    #     )]\n",
    "    # )\n",
    "    #\n",
    "    # fig.update_layout(\n",
    "    #     title_text=\"Bees Affected by Mites in the USA\",\n",
    "    #     title_xanchor=\"center\",\n",
    "    #     title_font=dict(size=24),\n",
    "    #     title_x=0.5,\n",
    "    #     geo=dict(scope='usa'),\n",
    "    # )\n",
    "\n",
    "    \n",
    "#     return container, "
   ]
  },
  {
   "cell_type": "code",
   "execution_count": null,
   "metadata": {},
   "outputs": [],
   "source": []
  },
  {
   "cell_type": "code",
   "execution_count": 46,
   "metadata": {
    "colab": {
     "base_uri": "https://localhost:8080/",
     "height": 235
    },
    "id": "smybGnFU85Qu",
    "outputId": "3a2291ff-4afc-4497-d310-523cf63f9b50"
   },
   "outputs": [
    {
     "name": "stdout",
     "output_type": "stream",
     "text": [
      "   year    PM2.5      SO2       NO2    station\n",
      "0  2013 2.000000 0.285600  1.847700  Changping\n",
      "1  2013 2.000000 0.285600 45.371300  Changping\n",
      "2  2013 2.000000 2.856000  1.642400    Huairou\n",
      "3  2013 2.000000 3.000000 10.000000    Gucheng\n",
      "4  2013 2.000000 3.000000 15.000000    Gucheng\n",
      "5  2013 2.000000 3.000000 28.000000    Gucheng\n",
      "6  2013 2.000000 7.000000 17.000000  Changping\n",
      "7  2013 3.000000 0.285600  1.231800   Dingling\n"
     ]
    }
   ],
   "source": [
    "app = Dash(__name__)\n",
    "\n",
    "\n",
    "# -- Import and clean data (importing csv into pandas)\n",
    "# df = pd.read_csv(\"intro_bees.csv\")\n",
    "df = pd.read_sql('''SELECT * FROM data''',conn)\n",
    "\n",
    "df = df.groupby(['year', 'PM2.5', 'SO2', 'NO2', 'station'])[['station']].mean()\n",
    "df.reset_index(inplace=True)\n",
    "print(df[:8])"
   ]
  },
  {
   "cell_type": "code",
   "execution_count": 47,
   "metadata": {
    "id": "ZTTsmSjp9RDV"
   },
   "outputs": [],
   "source": [
    "# App layout\n",
    "app.layout = html.Div([\n",
    "\n",
    "    \n",
    "    html.H1(\"Beijing Air Quality Index\", style={'text-align': 'center'}),\n",
    "\n",
    "    \n",
    "    dcc.Dropdown(id=\"slct_year\",\n",
    "                 options=[\n",
    "                     {\"label\": \"2013\", \"value\": 2013},\n",
    "                     {\"label\": \"2014\", \"value\": 2014},\n",
    "                     {\"label\": \"2015\", \"value\": 2015},\n",
    "                     {\"label\": \"2016\", \"value\": 2016},\n",
    "                     {\"label\": \"2017\", \"value\": 2017}],\n",
    "                 multi=False,\n",
    "                 value=2013,\n",
    "                 style={'width': \"40%\"}\n",
    "                 ),\n",
    "  \n",
    "    \n",
    "    html.Div(id='output_container', children=[]),\n",
    "    html.Br(),\n",
    "\n",
    "    \n",
    "    dcc.Graph(id='my_bee_map', figure={})\n",
    "    \n",
    "])"
   ]
  },
  {
   "cell_type": "code",
   "execution_count": 48,
   "metadata": {
    "colab": {
     "base_uri": "https://localhost:8080/"
    },
    "id": "sHXHjyV9qlhH",
    "outputId": "87e3b84b-db18-4dca-e3ee-a689fa8cd58b"
   },
   "outputs": [],
   "source": [
    "if __name__ == '__main__':\n",
    "  app.enable_dev_tools(\n",
    "  dev_tools_ui=True,\n",
    "  dev_tools_serve_dev_bundles=True,\n",
    ")"
   ]
  },
  {
   "cell_type": "code",
   "execution_count": 49,
   "metadata": {},
   "outputs": [],
   "source": [
    "# Connect the Plotly graphs with Dash Components\n",
    "dff = df.copy()\n",
    "@app.callback(\n",
    "    [Output(component_id='output_container', component_property='children'),\n",
    "     Output(component_id='my_bee_map', component_property='figure')],\n",
    "    [Input(component_id='slct_year', component_property='value')]\n",
    ")\n",
    "def update_graph(option_slctd):\n",
    "    print(option_slctd)\n",
    "    print(type(option_slctd))\n",
    "\n",
    "    \n",
    "    container = \"The year chosen by user was: {}\".format(option_slctd)\n",
    "\n",
    "    \n",
    "    #dff = df.copy()\n",
    "    dff = dff[dff[\"Year\"] == option_slctd]\n",
    "    dff = dff[dff[\"Affected by\"] == \"Varroa_mites\"]"
   ]
  },
  {
   "cell_type": "code",
   "execution_count": null,
   "metadata": {},
   "outputs": [],
   "source": []
  },
  {
   "cell_type": "code",
   "execution_count": 50,
   "metadata": {},
   "outputs": [],
   "source": [
    "  app.run_server()\n",
    "  #app.run_server(debug=False, use_reloader=False)"
   ]
  },
  {
   "cell_type": "code",
   "execution_count": 51,
   "metadata": {
    "colab": {
     "base_uri": "https://localhost:8080/"
    },
    "id": "Fiuf55p93x60",
    "outputId": "aae8f0bd-c831-47e0-f25a-13850ce6dae8"
   },
   "outputs": [
    {
     "name": "stderr",
     "output_type": "stream",
     "text": [
      "ERROR:root:Internal Python error in the inspect module.\n",
      "Below is the traceback from this internal error.\n",
      "\n"
     ]
    },
    {
     "name": "stdout",
     "output_type": "stream",
     "text": [
      "Traceback (most recent call last):\n",
      "  File \"C:\\Users\\obeng\\anaconda3\\lib\\site-packages\\IPython\\core\\interactiveshell.py\", line 3444, in run_code\n",
      "    exec(code_obj, self.user_global_ns, self.user_ns)\n",
      "  File \"C:\\Users\\obeng\\AppData\\Local\\Temp/ipykernel_13720/3761159113.py\", line 6, in <module>\n",
      "    df = pd.read_sql('''SELECT * FROM data''',conn)\n",
      "  File \"C:\\Users\\obeng\\anaconda3\\lib\\site-packages\\pandas\\io\\sql.py\", line 602, in read_sql\n",
      "    return pandas_sql.read_query(\n",
      "  File \"C:\\Users\\obeng\\anaconda3\\lib\\site-packages\\pandas\\io\\sql.py\", line 2130, in read_query\n",
      "    data = self._fetchall_as_list(cursor)\n",
      "  File \"C:\\Users\\obeng\\anaconda3\\lib\\site-packages\\pandas\\io\\sql.py\", line 2144, in _fetchall_as_list\n",
      "    result = cur.fetchall()\n",
      "KeyboardInterrupt\n",
      "\n",
      "During handling of the above exception, another exception occurred:\n",
      "\n",
      "Traceback (most recent call last):\n"
     ]
    },
    {
     "name": "stderr",
     "output_type": "stream",
     "text": [
      "\n",
      "KeyboardInterrupt\n",
      "\n"
     ]
    }
   ],
   "source": [
    "\n",
    "app = Dash(__name__)\n",
    "\n",
    "\n",
    "# -- Import and clean data (importing csv into pandas)\n",
    "# df = pd.read_csv(\"intro_bees.csv\")\n",
    "df = pd.read_sql('''SELECT * FROM data''',conn)\n",
    "\n",
    "df = df.groupby(['year', 'PM2.5', 'SO2', 'NO2'])[['station']].mean()\n",
    "df.reset_index(inplace=True)\n",
    "print(df[:5])\n",
    "\n",
    "\n",
    "# ------------------------------------------------------------------------------\n",
    "# App layout\n",
    "app.layout = html.Div([\n",
    "\n",
    "    \n",
    "    html.H1(\"Web Application Dashboards with Dash\", style={'text-align': 'center'}),\n",
    "\n",
    "    \n",
    "    dcc.Dropdown(id=\"slct_year\",\n",
    "                 options=[\n",
    "                     {\"label\": \"2015\", \"value\": 2015},\n",
    "                     {\"label\": \"2016\", \"value\": 2016},\n",
    "                     {\"label\": \"2017\", \"value\": 2017},\n",
    "                     {\"label\": \"2018\", \"value\": 2018}],\n",
    "                 multi=False,\n",
    "                 value=2015,\n",
    "                 style={'width': \"40%\"}\n",
    "                 ),\n",
    "\n",
    "    \n",
    "    html.Div(id='output_container', children=[]),\n",
    "    html.Br(),\n",
    "\n",
    "    \n",
    "    dcc.Graph(id='my_bee_map', figure={})])\n",
    "\n",
    "\n",
    "# ------------------------------------------------------------------------------\n",
    "# Connect the Plotly graphs with Dash Components\n",
    "@app.callback(\n",
    "    [Output(component_id='output_container', component_property='children'),\n",
    "     Output(component_id='my_bee_map', component_property='figure')],\n",
    "    [Input(component_id='slct_year', component_property='value')]\n",
    ")\n",
    "def update_graph(option_slctd):\n",
    "    print(option_slctd)\n",
    "    print(type(option_slctd))\n",
    "\n",
    "    \n",
    "    container = \"The year chosen by user was: {}\".format(option_slctd)\n",
    "\n",
    "    \n",
    "    dff = df.copy()\n",
    "    dff = dff[dff[\"Year\"] == option_slctd]\n",
    "    dff = dff[dff[\"Affected by\"] == \"Varroa_mites\"]\n",
    "\n",
    "    \n",
    "    # Plotly Express\n",
    "    fig = px.choropleth(\n",
    "        data_frame=dff,\n",
    "        locationmode='USA-states',\n",
    "        locations='state_code',\n",
    "        scope=\"usa\",\n",
    "        color='Pct of Colonies Impacted',\n",
    "        hover_data=['State', 'Pct of Colonies Impacted'],\n",
    "        color_continuous_scale=px.colors.sequential.YlOrRd,\n",
    "        labels={'Pct of Colonies Impacted': '% of Bee Colonies'},\n",
    "        template='plotly_dark'\n",
    "    )\n",
    "\n",
    "    \n",
    "    # Plotly Graph Objects (GO)\n",
    "    # fig = go.Figure(\n",
    "    #     data=[go.Choropleth(\n",
    "    #         locationmode='USA-states',\n",
    "    #         locations=dff['state_code'],\n",
    "    #         z=dff[\"Pct of Colonies Impacted\"].astype(float),\n",
    "    #         colorscale='Reds',\n",
    "    #     )]\n",
    "    # )\n",
    "    #\n",
    "    # fig.update_layout(\n",
    "    #     title_text=\"Bees Affected by Mites in the USA\",\n",
    "    #     title_xanchor=\"center\",\n",
    "    #     title_font=dict(size=24),\n",
    "    #     title_x=0.5,\n",
    "    #     geo=dict(scope='usa'),\n",
    "    # )\n",
    "\n",
    "    \n",
    "    return container, "
   ]
  },
  {
   "cell_type": "code",
   "execution_count": null,
   "metadata": {
    "id": "5g2aWex23x61"
   },
   "outputs": [],
   "source": []
  },
  {
   "cell_type": "code",
   "execution_count": null,
   "metadata": {
    "id": "12s-yM4v3x61"
   },
   "outputs": [],
   "source": []
  },
  {
   "cell_type": "code",
   "execution_count": null,
   "metadata": {},
   "outputs": [],
   "source": [
    "import os\n",
    "# We start with the import of standard ML librairies\n",
    "import pandas as pd\n",
    "import math\n",
    "from joblib import load\n",
    "#from src.data_processing import make_full_pipeline\n",
    "import pickle\n",
    "# We add all Plotly and Dash necessary librairies\n",
    "import dash\n",
    "import plotly.graph_objects as go\n",
    "import dash_core_components as dcc\n",
    "import dash_html_components as html\n",
    "from dash.dependencies import Input, Output\n",
    "\n",
    "# HOME_PATH = os.getcwd()\n",
    "# DATA_PATH = os.path.join(HOME_PATH, 'data')\n",
    "# MODELS_PATH = os.path.join(HOME_PATH, 'model')\n",
    "# ASSETS_PATH = os.path.join(HOME_PATH, 'assets')\n",
    "\n",
    "# df = pd.read_csv(os.path.join(DATA_PATH, \"Customer-Value-Analysis.csv\")).set_index('Customer')\n",
    "# sk_best = load(os.path.join(MODELS_PATH, 'best.joblib'))\n",
    "\n",
    "df = pd.read_csv(os.path.join(\"Documents/Technology sub/Data Science/Python/PRSA_Data_20130301-20170228/PRSA_Data_Changping_20130301-20170228.csv\")).set_index('PM2.5')\n",
    "sk_best = load(os.path.join(\"Documents/DSI_Python/Python notebooks/LR_Beijing_model.sav\"))\n",
    "\n",
    "# full_pipeline = load(os.path.join(MODELS_PATH, 'transformer.joblib'))\n",
    "full_pipeline = make_full_pipeline(df)\n",
    "\n",
    "ohe_path = os.path.join(MODELS_PATH, 'ohe_categories.pkl')\n",
    "perfs_path = os.path.join(MODELS_PATH, 'sk_best_performances.pkl')\n",
    "\n",
    "with open(ohe_path, 'rb') as input:\n",
    "    ohe_categories = pickle.load(input)\n",
    "\n",
    "categories = []\n",
    "for k, l in ohe_categories.items():\n",
    "    categories.append([f'{k}_{cat}' for cat in list(l)])\n",
    "flatten = lambda l: [item for sublist in l for item in sublist]\n",
    "categories = flatten(categories)\n",
    "\n",
    "with open(perfs_path, 'rb') as input:\n",
    "    perfs = pickle.load(input)\n",
    "# scaling\n",
    "\n",
    "cats = [var for var, var_type in df.dtypes.items() if var_type == 'object']\n",
    "nums = [var for var in df.columns if var not in cats]\n",
    "cats.remove('Response')\n",
    "\n",
    "TOP = 10\n",
    "# We create a DataFrame to store the features' importance and their corresponding label\n",
    "df_feature_importances = pd.DataFrame(sk_best.feature_importances_ * 100, columns=[\"Importance\"],\n",
    "                                      index=nums + categories)\n",
    "df_feature_importances = df_feature_importances.sort_values(\"Importance\", ascending=False)\n",
    "df_feature_importances = df_feature_importances.loc[df_feature_importances.index[:TOP]]\n",
    "\n",
    "# We create a Features Importance Bar Chart\n",
    "fig_features_importance = go.Figure()\n",
    "fig_features_importance.add_trace(go.Bar(x=df_feature_importances.index,\n",
    "                                         y=df_feature_importances[\"Importance\"],\n",
    "                                         marker_color='rgb(171, 226, 251)')\n",
    "                                  )\n",
    "fig_features_importance.update_layout(title_text='<b>Features Importance of the model<b>', title_x=0.5)\n",
    "\n",
    "# We create a Features perfomances Bar Chart\n",
    "fig_perfs = go.Figure()\n",
    "fig_perfs.add_trace(go.Bar(y=list(perfs.keys()),\n",
    "                           x=list(perfs.values()),\n",
    "                           marker_color='rgb(171, 226, 251)',\n",
    "                           orientation='h')\n",
    "                    )\n",
    "fig_perfs.update_layout(title_text='<b>Best Model Performances<b>', title_x=0.5)\n",
    "\n",
    "cat_children = []\n",
    "for var in cats:\n",
    "    # Categorical children\n",
    "    sorted_modalities = list(df[var].value_counts().index)\n",
    "    cat_children.append(html.H4(children=var))\n",
    "    cat_children.append(dcc.Dropdown(\n",
    "        id='{}-dropdown'.format(var),\n",
    "        options=[{'label': value, 'value': value} for value in sorted_modalities],\n",
    "        value=sorted_modalities[0]\n",
    "    ))\n",
    "\n",
    "linear_children = []\n",
    "for var in nums:\n",
    "    # linear children\n",
    "    linear_children.append(html.H4(children=var))\n",
    "    desc = df[var].describe()\n",
    "    linear_children.append(dcc.Slider(\n",
    "        id='{}-dropdown'.format(var),\n",
    "        min=math.floor(desc['min']),\n",
    "        max=round(desc['max']),\n",
    "        step=None,\n",
    "        value=round(desc['mean']),\n",
    "        marks={i: '{}°'.format(i) for i in\n",
    "               range(int(desc['min']), int(desc['max']) + 1, max(int((desc['std'] / 1.5)), 1))}\n",
    "    ))\n",
    "# The command below can be activated in a standard notebook to display the chart\n",
    "# fig_features_importance.show()\n",
    "\n",
    "\n",
    "app = dash.Dash(__name__,\n",
    "# external CSS stylesheets\n",
    " external_stylesheets = [\n",
    "     #\"https://raw.githack.com/Athena75/IBM-Customer-Value-Dashboarding/main/assets/style.css\",\n",
    "     \"https://rawcdn.githack.com/Athena75/IBM-Customer-Value-Dashboarding/df971ae38117d85c8512a72643ce6158cde7a4eb/assets/style.css\"\n",
    " ]\n",
    ")\n",
    "\n",
    "# We apply basic HTML formatting to the layout\n",
    "app.layout = html.Div(children=[\n",
    "    # first row : Title\n",
    "    html.Div(children=[\n",
    "        html.Div(children=[html.H1(children=\"Simulation Tool : IBM Customer Churn\")],\n",
    "                 className='title'),\n",
    "\n",
    "    ],\n",
    "        style={\"display\": \"block\"}),\n",
    "    # second row :\n",
    "    html.Div(children=[\n",
    "        # first column : fig feature importance + linear + prediction\n",
    "        html.Div(children=[\n",
    "            html.Div(children=[dcc.Graph(figure=fig_features_importance, className='graph')] + linear_children),\n",
    "            # prediction result\n",
    "            html.Div(children=[html.H2(children=\"Prediction:\"),\n",
    "                               html.H2(id=\"prediction_result\")],\n",
    "                     className='prediction')],\n",
    "                 className='column'),\n",
    "        # second column : fig performances categorical\n",
    "        html.Div(children=[dcc.Graph(figure=fig_perfs, className='graph')] + cat_children,\n",
    "                 className='column')\n",
    "    ],\n",
    "        className='row')\n",
    "]\n",
    ")\n",
    "\n",
    "\n",
    "# The callback function will provide one \"Output\" in the form of a string (=children)\n",
    "@app.callback(Output(component_id=\"prediction_result\", component_property=\"children\"),\n",
    "              # The values corresponding to sliders and dropdowns of respectively numerical and categorical features\n",
    "              [Input('{}-dropdown'.format(var), 'value') for var in nums + cats])\n",
    "# The input variable are set in the same order as the callback Inputs\n",
    "def update_prediction(*X):\n",
    "    # get the data input and map it to the correponding feature names\n",
    "    payload = dict(zip(nums + cats, X))\n",
    "    # create one line dataframe\n",
    "    frame_X = pd.DataFrame(payload, index=[0])\n",
    "    # pass it through the pre-fitted transformer\n",
    "    X_processed = full_pipeline.transform(frame_X)\n",
    "\n",
    "    prediction = sk_best.predict_proba(X_processed)[0]\n",
    "\n",
    "    # And retuned to the Output of the callback function\n",
    "    return \" {}% No , {}% Yes\".format(\"%.2f\" % (prediction[0] * 100),\n",
    "                                      \"%.2f\" % (prediction[1] * 100))\n",
    "\n",
    "\n",
    "server = app.server"
   ]
  }
 ],
 "metadata": {
  "colab": {
   "name": "DSI_aqi-Beijing-multisite.ipynb",
   "provenance": []
  },
  "kernelspec": {
   "display_name": "Python 3 (ipykernel)",
   "language": "python",
   "name": "python3"
  },
  "language_info": {
   "codemirror_mode": {
    "name": "ipython",
    "version": 3
   },
   "file_extension": ".py",
   "mimetype": "text/x-python",
   "name": "python",
   "nbconvert_exporter": "python",
   "pygments_lexer": "ipython3",
   "version": "3.9.7"
  }
 },
 "nbformat": 4,
 "nbformat_minor": 4
}
