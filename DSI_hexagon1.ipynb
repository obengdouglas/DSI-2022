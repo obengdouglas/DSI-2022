{
  "nbformat": 4,
  "nbformat_minor": 0,
  "metadata": {
    "colab": {
      "name": "DSI_hexagon1.ipynb",
      "provenance": [],
      "collapsed_sections": [],
      "authorship_tag": "ABX9TyMX2mNxcYhhKQIAuMsJ1QPe",
      "include_colab_link": true
    },
    "kernelspec": {
      "name": "python3",
      "display_name": "Python 3"
    },
    "language_info": {
      "name": "python"
    }
  },
  "cells": [
    {
      "cell_type": "markdown",
      "metadata": {
        "id": "view-in-github",
        "colab_type": "text"
      },
      "source": [
        "<a href=\"https://colab.research.google.com/github/obengdouglas/DSI-2022/blob/main/DSI_hexagon1.ipynb\" target=\"_parent\"><img src=\"https://colab.research.google.com/assets/colab-badge.svg\" alt=\"Open In Colab\"/></a>"
      ]
    },
    {
      "cell_type": "markdown",
      "source": [
        "# **Pre-DSI Assignment - 2022**\n",
        "#**Question 1: Unexpected Plots (Hexagon)**\n",
        "\n",
        "**Notes**\n",
        "\n",
        "Write a python function that will plot the points that come from the following procedure: \n",
        "\n",
        "1. Create a regular hexagon\n",
        "2. Pick a random point, P, inside the hexagon. \n",
        "3. Make a triangle, T, by randomly connecting P to two adjacent vertices of the hexagon.\n",
        "4. Compute the centroid of T. This becomes your new random point, P.  Save it, make a new random triangle as above, compute the new centroid etc… Repeat this process 10,000 times. \n",
        "5. Make a scatter plot of all your 10,000 random points. What emerges? \n",
        "\n",
        "The goal of this exercise is to ensure that you have enough basic skills and familiarity with python to succeed.\n",
        "\n",
        "[url to document](https://docs.google.com/document/d/1ZUltBJgPx2d3Y3QC44xoibZJFCpNo2mIR9KZkpnLdv8/edit)"
      ],
      "metadata": {
        "id": "Kh4vRSzxYVGN"
      }
    },
    {
      "cell_type": "markdown",
      "source": [
        "# Libraries"
      ],
      "metadata": {
        "id": "2vNCvL0iZliF"
      }
    },
    {
      "cell_type": "code",
      "source": [
        "# import libraries\n",
        "import numpy as np # linear algebra\n",
        "import pandas as pd # data processing\n",
        "import os\n",
        "import matplotlib.pyplot as plt\n",
        "import math\n",
        "from math import sqrt\n",
        "import random\n",
        "import time"
      ],
      "metadata": {
        "id": "Qb5yt0M-YV8Q"
      },
      "execution_count": null,
      "outputs": []
    },
    {
      "cell_type": "markdown",
      "source": [
        "# Complete Code "
      ],
      "metadata": {
        "id": "ak1m5d6hZsTi"
      }
    },
    {
      "cell_type": "code",
      "source": [
        "# 1.1. Create Regular hexagon \n",
        "start = time.time()\n",
        "# Put coordinates of a regular hexagon in a dictionary. \n",
        "# A - F are the coordinates of a regular polygon with length of 'a' and center 0,0. (https://qr.ae/pG6IHm). \n",
        "\n",
        "a=1\n",
        "coordinates = {'A':(a,0), 'B':(a/2,(a/2)*sqrt(3)), 'C':(-a/2,(a/2)*sqrt(3)), 'D':(-a,0), 'E':(-a/2,(-a/2)*sqrt(3)), 'F':(a/2,(-a/2)*sqrt(3))} \n",
        "hexagon=[coordinates[x] for x in coordinates]\n",
        "hexagon.append(hexagon[0]) # Append coordinates of hexagon. Argument refers to index of last/ending coordinates (ie. coordinates A. )\n",
        "xh, yh = zip(*hexagon) # Create lists of x and y values for hexagon\n",
        "\n",
        "centroid = (0,0) # Define centroid with dummy coordinates. \n",
        "print('Coordinates of hexagon are', hexagon)\n",
        "\n",
        "#1.2-1.4. Put creation of triangles and centroids in a loop\n",
        "# The 3 coordinates used for a triangle are: 1. centroid . 2. random coordinate selected from A -F. 3. coordinate adjacent to randomly selected coordinate (in forward direction)\n",
        "\n",
        "runs = 10000\n",
        "for a in range(runs):\n",
        "  adjacent = ['A', 'B', 'C', 'D', 'E', 'F', 'A'] #Ending at A ensures F has a forward adjacent coordinate\n",
        "  \n",
        "  n_pairs = 1\n",
        "  for b in range(n_pairs):\n",
        "    i = random.randrange(len(adjacent)-1)\n",
        "    randpoints = [adjacent[i], adjacent[i+1]]\n",
        "    triangle=[coordinates[x] for x in randpoints]\n",
        "    triangle.insert(0, centroid)\n",
        "    \n",
        "    trianglecopy=triangle.copy()\n",
        "\n",
        "    triangle.append(triangle[0]) #close triangle\n",
        "    xt, yt = zip(*triangle)\n",
        "\n",
        "    xx = []\n",
        "    for x in trianglecopy:\n",
        "      xx.append(x[0])\n",
        "    x1, x2, x3 = xx # where x1, x2, x3 refer to x coordinates of triangle\n",
        "\n",
        "    yy = []\n",
        "    for y in trianglecopy:\n",
        "      yy.append(y[1])\n",
        "    y1, y2, y3 = yy # where y1, y2, y3 refer to y coordinates of triangle\n",
        "\n",
        "\n",
        "    xc = ((x1 + x2 + x3) / 3)\n",
        "    yc = ((y1 + y2 + y3) / 3)\n",
        "    #print('centroid',(a),':', centroid) #uncomment to print coordinates of centroids\n",
        "    #print('triangle coordinates are',(a),':', trianglecopy) #uncomment to print coordinates of triangles. First x,y coordinates refers to centroid.\n",
        "    centroid = (xc, yc)\n",
        "    \n",
        "    ## Uncomment below to show plot of triangles\n",
        "    # plot1=plt.figure(1)\n",
        "    # plt.ion()\n",
        "    # plt.rcParams['figure.figsize'] = [10, 10]\n",
        "    # plt.title(\"Unexpected Plots - triangles in hexagons\")\n",
        "    # plt.xlabel(\"X\")\n",
        "    # plt.ylabel(\"Y\")\n",
        "    # plt.plot(xt, yt, color='green')\n",
        "\n",
        "    #5. Plot centroid points NB: Initial random point not printed\n",
        "    plot1=plt.figure(2)\n",
        "    plt.ion()\n",
        "    plt.rcParams['figure.figsize'] = [10, 10]\n",
        "    plt.title(\"Unexpected Plots - centroid points of triangles in hexagons\")\n",
        "    plt.xlabel(\"X\")\n",
        "    plt.ylabel(\"Y\")\n",
        "    plt.scatter(xc, yc, color='blue')\n",
        "\n",
        "#plt.plot(xh, yh, color='red') # uncomment to show hexagon around centroid points\n",
        "\n",
        "end = time.time()\n",
        "print(\"The time of execution of above program is :\", end-start)\n",
        "\n",
        "# Consider the following changes/improvements\n",
        "# 1. Generate hexagon without need for coordinates. Can process be done using turtle?\n",
        "# 2. Make selection of first random internal point (centroid) truelly automatic/random. Current method is random but manual\n",
        "# 3. Improve runtime\n",
        "# 4. Include initial random point in plot without omitting last centroid point\n",
        "# 5. Plot size occasionally different from specified dimensions."
      ],
      "metadata": {
        "colab": {
          "base_uri": "https://localhost:8080/",
          "height": 331
        },
        "id": "PYnJgARnYWBJ",
        "outputId": "8f265314-1fe7-4a8f-82bd-794874a9e880"
      },
      "execution_count": null,
      "outputs": [
        {
          "output_type": "stream",
          "name": "stdout",
          "text": [
            "Coordinates of hexagon are [(1, 0), (0.5, 0.8660254037844386), (-0.5, 0.8660254037844386), (-1, 0), (-0.5, -0.8660254037844386), (0.5, -0.8660254037844386), (1, 0)]\n",
            "The time of execution of above program is : 235.21285104751587\n"
          ]
        },
        {
          "output_type": "display_data",
          "data": {
            "image/png": "[encoded data removed]",
            "text/plain": [
              "<Figure size 432x288 with 1 Axes>"
            ]
          },
          "metadata": {
            "needs_background": "light"
          }
        }
      ]
    }
  ]
}